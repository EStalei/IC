{
  "nbformat": 4,
  "nbformat_minor": 0,
  "metadata": {
    "colab": {
      "name": "Regressao_eike.ipynb",
      "provenance": [],
      "collapsed_sections": []
    },
    "kernelspec": {
      "name": "python3",
      "display_name": "Python 3"
    }
  },
  "cells": [
    {
      "cell_type": "markdown",
      "metadata": {
        "id": "nwYMnxS6s1Cc"
      },
      "source": [
        "\n",
        "**Disciplina: Tópicos em Inteligência Computacional**\n",
        "\n",
        "Instituto Federal do Norte de Minas Gerais Campus Montes Claros\n",
        "\n",
        "Curso: Ciência da Computação\n",
        "\n",
        "Professora: Luciana Balieiro Cosme\n",
        "\n",
        "Aluno: Eike Stálei Vieira Neves\n",
        "\n",
        "\n",
        "\n",
        "---\n",
        "\n",
        "\n",
        "# Exercício\n",
        "\n",
        "Considere, pelo menos, outras duas características da base de dados Diabetes, repita o exercício:\n",
        "\n",
        "1.   Para cada característica individualmente compare o resultado com a característica \"age\", visualmente (gráfico) e por meio duas medidas de erro: $abs(y_{teste} - y_{predito})$) e outra medida da escolha de vocês.\n",
        "2.   Adicionalmente, combine as duas características (regressão com duas variáveis) e analise o resultado com base nas duas medidas de erro no item anterior.\n",
        "\n",
        "\n",
        "O código deve ser enviado ao Github e apresentado pelo Flipgrid.\n",
        "\n",
        "**Data: 07-10-2020**\n"
      ]
    },
    {
      "cell_type": "markdown",
      "metadata": {
        "id": "S7gk6ozv2CQX"
      },
      "source": [
        "# **Base de dados real**"
      ]
    },
    {
      "cell_type": "code",
      "metadata": {
        "id": "WVgSx6DpsVGn",
        "outputId": "db971596-efa4-4160-f54c-f7a522858052",
        "colab": {
          "base_uri": "https://localhost:8080/"
        }
      },
      "source": [
        "import matplotlib.pyplot as plt\n",
        "import numpy as np\n",
        "from sklearn import linear_model\n",
        "from sklearn.datasets import load_diabetes\n",
        "\n",
        "# Load the diabetes dataset\n",
        "diabetes = load_diabetes()\n",
        "\n",
        "\n",
        "print (diabetes.DESCR)"
      ],
      "execution_count": 71,
      "outputs": [
        {
          "output_type": "stream",
          "text": [
            ".. _diabetes_dataset:\n",
            "\n",
            "Diabetes dataset\n",
            "----------------\n",
            "\n",
            "Ten baseline variables, age, sex, body mass index, average blood\n",
            "pressure, and six blood serum measurements were obtained for each of n =\n",
            "442 diabetes patients, as well as the response of interest, a\n",
            "quantitative measure of disease progression one year after baseline.\n",
            "\n",
            "**Data Set Characteristics:**\n",
            "\n",
            "  :Number of Instances: 442\n",
            "\n",
            "  :Number of Attributes: First 10 columns are numeric predictive values\n",
            "\n",
            "  :Target: Column 11 is a quantitative measure of disease progression one year after baseline\n",
            "\n",
            "  :Attribute Information:\n",
            "      - Age\n",
            "      - Sex\n",
            "      - Body mass index\n",
            "      - Average blood pressure\n",
            "      - S1\n",
            "      - S2\n",
            "      - S3\n",
            "      - S4\n",
            "      - S5\n",
            "      - S6\n",
            "\n",
            "Note: Each of these 10 feature variables have been mean centered and scaled by the standard deviation times `n_samples` (i.e. the sum of squares of each column totals 1).\n",
            "\n",
            "Source URL:\n",
            "https://www4.stat.ncsu.edu/~boos/var.select/diabetes.html\n",
            "\n",
            "For more information see:\n",
            "Bradley Efron, Trevor Hastie, Iain Johnstone and Robert Tibshirani (2004) \"Least Angle Regression,\" Annals of Statistics (with discussion), 407-499.\n",
            "(https://web.stanford.edu/~hastie/Papers/LARS/LeastAngle_2002.pdf)\n"
          ],
          "name": "stdout"
        }
      ]
    },
    {
      "cell_type": "code",
      "metadata": {
        "id": "YapvAQPB-fsu",
        "outputId": "aef4176b-9f7f-45bf-b996-23ae0e1c9fd5",
        "colab": {
          "base_uri": "https://localhost:8080/",
          "height": 204
        }
      },
      "source": [
        "import pandas\n",
        "\n",
        "tabela = pandas.DataFrame(diabetes.data)\n",
        "tabela.columns = diabetes.feature_names\n",
        "tabela.head()"
      ],
      "execution_count": 72,
      "outputs": [
        {
          "output_type": "execute_result",
          "data": {
            "text/html": [
              "<div>\n",
              "<style scoped>\n",
              "    .dataframe tbody tr th:only-of-type {\n",
              "        vertical-align: middle;\n",
              "    }\n",
              "\n",
              "    .dataframe tbody tr th {\n",
              "        vertical-align: top;\n",
              "    }\n",
              "\n",
              "    .dataframe thead th {\n",
              "        text-align: right;\n",
              "    }\n",
              "</style>\n",
              "<table border=\"1\" class=\"dataframe\">\n",
              "  <thead>\n",
              "    <tr style=\"text-align: right;\">\n",
              "      <th></th>\n",
              "      <th>age</th>\n",
              "      <th>sex</th>\n",
              "      <th>bmi</th>\n",
              "      <th>bp</th>\n",
              "      <th>s1</th>\n",
              "      <th>s2</th>\n",
              "      <th>s3</th>\n",
              "      <th>s4</th>\n",
              "      <th>s5</th>\n",
              "      <th>s6</th>\n",
              "    </tr>\n",
              "  </thead>\n",
              "  <tbody>\n",
              "    <tr>\n",
              "      <th>0</th>\n",
              "      <td>0.038076</td>\n",
              "      <td>0.050680</td>\n",
              "      <td>0.061696</td>\n",
              "      <td>0.021872</td>\n",
              "      <td>-0.044223</td>\n",
              "      <td>-0.034821</td>\n",
              "      <td>-0.043401</td>\n",
              "      <td>-0.002592</td>\n",
              "      <td>0.019908</td>\n",
              "      <td>-0.017646</td>\n",
              "    </tr>\n",
              "    <tr>\n",
              "      <th>1</th>\n",
              "      <td>-0.001882</td>\n",
              "      <td>-0.044642</td>\n",
              "      <td>-0.051474</td>\n",
              "      <td>-0.026328</td>\n",
              "      <td>-0.008449</td>\n",
              "      <td>-0.019163</td>\n",
              "      <td>0.074412</td>\n",
              "      <td>-0.039493</td>\n",
              "      <td>-0.068330</td>\n",
              "      <td>-0.092204</td>\n",
              "    </tr>\n",
              "    <tr>\n",
              "      <th>2</th>\n",
              "      <td>0.085299</td>\n",
              "      <td>0.050680</td>\n",
              "      <td>0.044451</td>\n",
              "      <td>-0.005671</td>\n",
              "      <td>-0.045599</td>\n",
              "      <td>-0.034194</td>\n",
              "      <td>-0.032356</td>\n",
              "      <td>-0.002592</td>\n",
              "      <td>0.002864</td>\n",
              "      <td>-0.025930</td>\n",
              "    </tr>\n",
              "    <tr>\n",
              "      <th>3</th>\n",
              "      <td>-0.089063</td>\n",
              "      <td>-0.044642</td>\n",
              "      <td>-0.011595</td>\n",
              "      <td>-0.036656</td>\n",
              "      <td>0.012191</td>\n",
              "      <td>0.024991</td>\n",
              "      <td>-0.036038</td>\n",
              "      <td>0.034309</td>\n",
              "      <td>0.022692</td>\n",
              "      <td>-0.009362</td>\n",
              "    </tr>\n",
              "    <tr>\n",
              "      <th>4</th>\n",
              "      <td>0.005383</td>\n",
              "      <td>-0.044642</td>\n",
              "      <td>-0.036385</td>\n",
              "      <td>0.021872</td>\n",
              "      <td>0.003935</td>\n",
              "      <td>0.015596</td>\n",
              "      <td>0.008142</td>\n",
              "      <td>-0.002592</td>\n",
              "      <td>-0.031991</td>\n",
              "      <td>-0.046641</td>\n",
              "    </tr>\n",
              "  </tbody>\n",
              "</table>\n",
              "</div>"
            ],
            "text/plain": [
              "        age       sex       bmi  ...        s4        s5        s6\n",
              "0  0.038076  0.050680  0.061696  ... -0.002592  0.019908 -0.017646\n",
              "1 -0.001882 -0.044642 -0.051474  ... -0.039493 -0.068330 -0.092204\n",
              "2  0.085299  0.050680  0.044451  ... -0.002592  0.002864 -0.025930\n",
              "3 -0.089063 -0.044642 -0.011595  ...  0.034309  0.022692 -0.009362\n",
              "4  0.005383 -0.044642 -0.036385  ... -0.002592 -0.031991 -0.046641\n",
              "\n",
              "[5 rows x 10 columns]"
            ]
          },
          "metadata": {
            "tags": []
          },
          "execution_count": 72
        }
      ]
    },
    {
      "cell_type": "code",
      "metadata": {
        "id": "32_JjRWu-wH2",
        "outputId": "c336f4ad-d492-43c5-e8ad-8aad2696f0f6",
        "colab": {
          "base_uri": "https://localhost:8080/",
          "height": 359
        }
      },
      "source": [
        "# a progressao da doenca\n",
        "tabela['y'] = diabetes.target\n",
        "tabela.head(10)\n",
        "\n"
      ],
      "execution_count": 74,
      "outputs": [
        {
          "output_type": "execute_result",
          "data": {
            "text/html": [
              "<div>\n",
              "<style scoped>\n",
              "    .dataframe tbody tr th:only-of-type {\n",
              "        vertical-align: middle;\n",
              "    }\n",
              "\n",
              "    .dataframe tbody tr th {\n",
              "        vertical-align: top;\n",
              "    }\n",
              "\n",
              "    .dataframe thead th {\n",
              "        text-align: right;\n",
              "    }\n",
              "</style>\n",
              "<table border=\"1\" class=\"dataframe\">\n",
              "  <thead>\n",
              "    <tr style=\"text-align: right;\">\n",
              "      <th></th>\n",
              "      <th>age</th>\n",
              "      <th>sex</th>\n",
              "      <th>bmi</th>\n",
              "      <th>bp</th>\n",
              "      <th>s1</th>\n",
              "      <th>s2</th>\n",
              "      <th>s3</th>\n",
              "      <th>s4</th>\n",
              "      <th>s5</th>\n",
              "      <th>s6</th>\n",
              "      <th>y</th>\n",
              "    </tr>\n",
              "  </thead>\n",
              "  <tbody>\n",
              "    <tr>\n",
              "      <th>0</th>\n",
              "      <td>0.038076</td>\n",
              "      <td>0.050680</td>\n",
              "      <td>0.061696</td>\n",
              "      <td>0.021872</td>\n",
              "      <td>-0.044223</td>\n",
              "      <td>-0.034821</td>\n",
              "      <td>-0.043401</td>\n",
              "      <td>-0.002592</td>\n",
              "      <td>0.019908</td>\n",
              "      <td>-0.017646</td>\n",
              "      <td>151.0</td>\n",
              "    </tr>\n",
              "    <tr>\n",
              "      <th>1</th>\n",
              "      <td>-0.001882</td>\n",
              "      <td>-0.044642</td>\n",
              "      <td>-0.051474</td>\n",
              "      <td>-0.026328</td>\n",
              "      <td>-0.008449</td>\n",
              "      <td>-0.019163</td>\n",
              "      <td>0.074412</td>\n",
              "      <td>-0.039493</td>\n",
              "      <td>-0.068330</td>\n",
              "      <td>-0.092204</td>\n",
              "      <td>75.0</td>\n",
              "    </tr>\n",
              "    <tr>\n",
              "      <th>2</th>\n",
              "      <td>0.085299</td>\n",
              "      <td>0.050680</td>\n",
              "      <td>0.044451</td>\n",
              "      <td>-0.005671</td>\n",
              "      <td>-0.045599</td>\n",
              "      <td>-0.034194</td>\n",
              "      <td>-0.032356</td>\n",
              "      <td>-0.002592</td>\n",
              "      <td>0.002864</td>\n",
              "      <td>-0.025930</td>\n",
              "      <td>141.0</td>\n",
              "    </tr>\n",
              "    <tr>\n",
              "      <th>3</th>\n",
              "      <td>-0.089063</td>\n",
              "      <td>-0.044642</td>\n",
              "      <td>-0.011595</td>\n",
              "      <td>-0.036656</td>\n",
              "      <td>0.012191</td>\n",
              "      <td>0.024991</td>\n",
              "      <td>-0.036038</td>\n",
              "      <td>0.034309</td>\n",
              "      <td>0.022692</td>\n",
              "      <td>-0.009362</td>\n",
              "      <td>206.0</td>\n",
              "    </tr>\n",
              "    <tr>\n",
              "      <th>4</th>\n",
              "      <td>0.005383</td>\n",
              "      <td>-0.044642</td>\n",
              "      <td>-0.036385</td>\n",
              "      <td>0.021872</td>\n",
              "      <td>0.003935</td>\n",
              "      <td>0.015596</td>\n",
              "      <td>0.008142</td>\n",
              "      <td>-0.002592</td>\n",
              "      <td>-0.031991</td>\n",
              "      <td>-0.046641</td>\n",
              "      <td>135.0</td>\n",
              "    </tr>\n",
              "    <tr>\n",
              "      <th>5</th>\n",
              "      <td>-0.092695</td>\n",
              "      <td>-0.044642</td>\n",
              "      <td>-0.040696</td>\n",
              "      <td>-0.019442</td>\n",
              "      <td>-0.068991</td>\n",
              "      <td>-0.079288</td>\n",
              "      <td>0.041277</td>\n",
              "      <td>-0.076395</td>\n",
              "      <td>-0.041180</td>\n",
              "      <td>-0.096346</td>\n",
              "      <td>97.0</td>\n",
              "    </tr>\n",
              "    <tr>\n",
              "      <th>6</th>\n",
              "      <td>-0.045472</td>\n",
              "      <td>0.050680</td>\n",
              "      <td>-0.047163</td>\n",
              "      <td>-0.015999</td>\n",
              "      <td>-0.040096</td>\n",
              "      <td>-0.024800</td>\n",
              "      <td>0.000779</td>\n",
              "      <td>-0.039493</td>\n",
              "      <td>-0.062913</td>\n",
              "      <td>-0.038357</td>\n",
              "      <td>138.0</td>\n",
              "    </tr>\n",
              "    <tr>\n",
              "      <th>7</th>\n",
              "      <td>0.063504</td>\n",
              "      <td>0.050680</td>\n",
              "      <td>-0.001895</td>\n",
              "      <td>0.066630</td>\n",
              "      <td>0.090620</td>\n",
              "      <td>0.108914</td>\n",
              "      <td>0.022869</td>\n",
              "      <td>0.017703</td>\n",
              "      <td>-0.035817</td>\n",
              "      <td>0.003064</td>\n",
              "      <td>63.0</td>\n",
              "    </tr>\n",
              "    <tr>\n",
              "      <th>8</th>\n",
              "      <td>0.041708</td>\n",
              "      <td>0.050680</td>\n",
              "      <td>0.061696</td>\n",
              "      <td>-0.040099</td>\n",
              "      <td>-0.013953</td>\n",
              "      <td>0.006202</td>\n",
              "      <td>-0.028674</td>\n",
              "      <td>-0.002592</td>\n",
              "      <td>-0.014956</td>\n",
              "      <td>0.011349</td>\n",
              "      <td>110.0</td>\n",
              "    </tr>\n",
              "    <tr>\n",
              "      <th>9</th>\n",
              "      <td>-0.070900</td>\n",
              "      <td>-0.044642</td>\n",
              "      <td>0.039062</td>\n",
              "      <td>-0.033214</td>\n",
              "      <td>-0.012577</td>\n",
              "      <td>-0.034508</td>\n",
              "      <td>-0.024993</td>\n",
              "      <td>-0.002592</td>\n",
              "      <td>0.067736</td>\n",
              "      <td>-0.013504</td>\n",
              "      <td>310.0</td>\n",
              "    </tr>\n",
              "  </tbody>\n",
              "</table>\n",
              "</div>"
            ],
            "text/plain": [
              "        age       sex       bmi        bp  ...        s4        s5        s6      y\n",
              "0  0.038076  0.050680  0.061696  0.021872  ... -0.002592  0.019908 -0.017646  151.0\n",
              "1 -0.001882 -0.044642 -0.051474 -0.026328  ... -0.039493 -0.068330 -0.092204   75.0\n",
              "2  0.085299  0.050680  0.044451 -0.005671  ... -0.002592  0.002864 -0.025930  141.0\n",
              "3 -0.089063 -0.044642 -0.011595 -0.036656  ...  0.034309  0.022692 -0.009362  206.0\n",
              "4  0.005383 -0.044642 -0.036385  0.021872  ... -0.002592 -0.031991 -0.046641  135.0\n",
              "5 -0.092695 -0.044642 -0.040696 -0.019442  ... -0.076395 -0.041180 -0.096346   97.0\n",
              "6 -0.045472  0.050680 -0.047163 -0.015999  ... -0.039493 -0.062913 -0.038357  138.0\n",
              "7  0.063504  0.050680 -0.001895  0.066630  ...  0.017703 -0.035817  0.003064   63.0\n",
              "8  0.041708  0.050680  0.061696 -0.040099  ... -0.002592 -0.014956  0.011349  110.0\n",
              "9 -0.070900 -0.044642  0.039062 -0.033214  ... -0.002592  0.067736 -0.013504  310.0\n",
              "\n",
              "[10 rows x 11 columns]"
            ]
          },
          "metadata": {
            "tags": []
          },
          "execution_count": 74
        }
      ]
    },
    {
      "cell_type": "code",
      "metadata": {
        "id": "JXY0sXKQsc2m",
        "outputId": "153dc91d-ce95-4f09-8f81-7b1f5ea6c9fd",
        "colab": {
          "base_uri": "https://localhost:8080/"
        }
      },
      "source": [
        "X = tabela['age']\n",
        "X_treinamento = X[:-20].array.to_numpy().reshape(-1,1)\n",
        "X_teste = X[-20:].array.to_numpy().reshape(-1,1)\n",
        "\n",
        "Z = tabela[[\"age\",\"bmi\"]]\n",
        "Z_treinamento = Z[:-20]\n",
        "Z_teste = Z[-20:]\n",
        "\n",
        "y = tabela['y']\n",
        "y_treinamento = y[:-20]\n",
        "y_teste = y[-20:].array.to_numpy().reshape(-1,1)\n",
        "\n",
        "\n",
        "regr = linear_model.LinearRegression()\n",
        "\n",
        "#regr.fit(X_treinamento, y_treinamento)\n",
        "regr.fit(Z_treinamento, y_treinamento)\n",
        "\n",
        "# Predição\n",
        "#diabetes_y_pred = regr.predict(X_teste)\n",
        "diabetes_y_pred2 = regr.predict(Z_teste)\n",
        "\n",
        "#coeficientes b1\n",
        "print('Coeficiente b1: \\n', regr.coef_)\n",
        "#intercepto b0\n",
        "print('Coeficiente b0: \\n', regr.intercept_)"
      ],
      "execution_count": 166,
      "outputs": [
        {
          "output_type": "stream",
          "text": [
            "Coeficiente b1: \n",
            " [139.20420118 912.45355549]\n",
            "Coeficiente b0: \n",
            " 152.8767000140564\n"
          ],
          "name": "stdout"
        }
      ]
    },
    {
      "cell_type": "code",
      "metadata": {
        "id": "K_xfKA8cBJU5",
        "outputId": "1c57fe1f-93a9-4770-cb12-ca33fdf89b4b",
        "colab": {
          "base_uri": "https://localhost:8080/",
          "height": 252
        }
      },
      "source": [
        "\n",
        "#plt.scatter(X_teste,y_teste,  color='black')\n",
        "plt.scatter(Z_teste[\"bmi\"], y_teste, color='green')\n",
        "\n",
        "#plt.plot(X_teste, diabetes_y_pred, color='blue', linewidth=2)\n",
        "plt.scatter(Z_teste[\"bmi\"], diabetes_y_pred2, color='orange')\n",
        "\n",
        "\n",
        "plt.xticks(())\n",
        "plt.yticks(())\n",
        "plt.show()\n"
        "plt.legend(["Real", "Predito"])"
      ],
      "execution_count": 172,
      "outputs": [
        {
          "output_type": "display_data",
          "data": {
            "image/png": "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\n",
            "text/plain": [
              "<Figure size 432x288 with 1 Axes>"
            ]
          },
          "metadata": {
            "tags": []
          }
        }
      ]
    },
    {
      "cell_type": "code",
      "metadata": {
        "id": "ZBxM4kqkmAs_",
        "outputId": "49a1777a-35e3-48fe-a946-376465dfe7c4",
        "colab": {
          "base_uri": "https://localhost:8080/"
        }
      },
      "source": [
        "#erroabs=sum(abs(y_teste-diabetes_y_pred.reshape(-1,1)))\n",
        "#errorlt=sum((abs(y_teste-diabetes_y_pred.reshape(-1,1))/y_teste*0.01))\n",
        "#print('Erro Absoluto - Erro:', erroabs)\n",
        "#print ('Erro Reltivo - Erro:', errorlt)\n",
        "\n",
        "erroabs2=sum(abs(y_teste-diabetes_y_pred2.reshape(-1,1)))\n",
        "errorlt2=sum((abs(y_teste-diabetes_y_pred2.reshape(-1,1))/y_teste*0.01))\n",
        "print('Erro Absoluto 2 - Erro:', erroabs2)\n",
        "print ('Erro Reltivo 2 - Erro:', errorlt2)"
      ],
      "execution_count": 173,
      "outputs": [
        {
          "output_type": "stream",
          "text": [
            "Erro Absoluto 2 - Erro: [846.47967869]\n",
            "Erro Reltivo 2 - Erro: [0.0977571]\n"
          ],
          "name": "stdout"
        }
      ]
    }
  ]
}
