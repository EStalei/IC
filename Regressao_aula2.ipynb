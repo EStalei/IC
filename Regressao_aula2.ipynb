{
  "nbformat": 4,
  "nbformat_minor": 0,
  "metadata": {
    "colab": {
      "name": "Regressao-aula2.ipynb",
      "provenance": [],
      "collapsed_sections": []
    },
    "kernelspec": {
      "name": "python3",
      "display_name": "Python 3"
    }
  },
  "cells": [
    {
      "cell_type": "markdown",
      "metadata": {
        "id": "nwYMnxS6s1Cc"
      },
      "source": [
        "\n",
        "**Disciplina: Tópicos em Inteligência Computacional**\n",
        "\n",
        "Instituto Federal do Norte de Minas Gerais Campus Montes Claros\n",
        "\n",
        "Curso: Ciência da Computação\n",
        "\n",
        "Professora: Luciana Balieiro Cosme\n",
        "\n",
        "\n",
        "\n",
        "---\n",
        "\n",
        "\n",
        "# **Regressão**\n",
        "\n",
        "Técnicas para modelos de regressão (linear, não-linear), em termos gerais, consistem em predizer o valor de uma variável dependente em função de outras variáveis preditores.\n",
        "\n",
        "Por exemplo, imagine poder prever o preço de uma casa, com base em dados, como a taxa de criminalidade na região da casa, número de quartos, etc. \n"
      ]
    },
    {
      "cell_type": "markdown",
      "metadata": {
        "id": "0SjZH_oQtZbm"
      },
      "source": [
        "Considere a base de dados sintética que será explorada a seguir:"
      ]
    },
    {
      "cell_type": "code",
      "metadata": {
        "id": "618MeRijrZp_",
        "outputId": "99519f20-b3fa-4600-da6e-86c6ce059791",
        "colab": {
          "base_uri": "https://localhost:8080/",
          "height": 36
        }
      },
      "source": [
        "import numpy as np\n",
        "\n",
        "X = np.array([1.0, 2.0,  3.0,  4.0,  5.0,  6.0,  7.0,  8.0,  9.0, 10.0, 11.0])\n",
        "y = np.array([5.0, 8.8,  9.6, 14.2, 18.8, 19.5, 21.4, 26.8, 28.9, 32.0, 33.8])\n",
        "X\n"
      ],
      "execution_count": null,
      "outputs": [
        {
          "output_type": "execute_result",
          "data": {
            "text/plain": [
              "array([ 1.,  2.,  3.,  4.,  5.,  6.,  7.,  8.,  9., 10., 11.])"
            ]
          },
          "metadata": {
            "tags": []
          },
          "execution_count": 19
        }
      ]
    },
    {
      "cell_type": "code",
      "metadata": {
        "id": "0RFa5CxOx_eE",
        "outputId": "55472e76-a717-4d09-e492-fea0e5e28986",
        "colab": {
          "base_uri": "https://localhost:8080/",
          "height": 36
        }
      },
      "source": [
        "y"
      ],
      "execution_count": null,
      "outputs": [
        {
          "output_type": "execute_result",
          "data": {
            "text/plain": [
              "array([ 5. ,  8.8,  9.6, 14.2, 18.8, 19.5, 21.4, 26.8, 28.9, 32. , 33.8])"
            ]
          },
          "metadata": {
            "tags": []
          },
          "execution_count": 20
        }
      ]
    },
    {
      "cell_type": "code",
      "metadata": {
        "id": "FXxPG0RJzvzE",
        "outputId": "fe8af96f-4398-432c-9a6a-2dd49aeb3a29",
        "colab": {
          "base_uri": "https://localhost:8080/",
          "height": 282
        }
      },
      "source": [
        "import matplotlib.pyplot as plt\n",
        "\n",
        "plt.scatter(X, y)\n",
        "plt.xlabel('x')\n",
        "plt.ylabel('y')\n",
        "plt.show()"
      ],
      "execution_count": null,
      "outputs": [
        {
          "output_type": "display_data",
          "data": {
            "image/png": "[encoded data removed]",
            "text/plain": [
              "<Figure size 432x288 with 1 Axes>"
            ]
          },
          "metadata": {
            "tags": [],
            "needs_background": "light"
          }
        }
      ]
    },
    {
      "cell_type": "code",
      "metadata": {
        "id": "ZD6IswbOv8ex",
        "outputId": "610b9196-9ed6-4d0d-a000-dd970fcf2d52",
        "colab": {
          "base_uri": "https://localhost:8080/",
          "height": 282
        }
      },
      "source": [
        "plt.scatter(X, y)\n",
        "plt.xlabel('x')\n",
        "plt.ylabel('y')\n",
        "plt.plot([1,11],[5,33.8], 'r-')\n",
        "plt.show()"
      ],
      "execution_count": null,
      "outputs": [
        {
          "output_type": "display_data",
          "data": {
            "image/png": "[encoded data removed]",
            "text/plain": [
              "<Figure size 432x288 with 1 Axes>"
            ]
          },
          "metadata": {
            "tags": [],
            "needs_background": "light"
          }
        }
      ]
    },
    {
      "cell_type": "markdown",
      "metadata": {
        "id": "oelXErqL2E0P"
      },
      "source": [
        "\n",
        "\n",
        "---\n",
        "\n",
        "\n",
        "# Regressão linear simples\n",
        "Um modelo linear que representa a relação entre uma variável dependente ($y$) e uma variável independente ($x$):\n",
        "\n",
        "\n",
        "$y = \\beta_0 + \\beta_1 x + \\varepsilon$\n",
        "\n",
        "temos que, $\\beta_1$ indica a inclinação da reta  e $\\beta_0$ intercepto, e uma variável aleatória (erro) $\\varepsilon$, considerada normalmente distribuída com E($\\varepsilon$) = 0 e V($\\varepsilon$) = $\\sigma^2$\n",
        "\n",
        "<br>\n",
        "\n",
        "---\n",
        "\n",
        "<br>\n",
        "\n",
        "*Os parâmetros do modelo são estimados pelo método de mínimos quadrados*\n"
      ]
    },
    {
      "cell_type": "markdown",
      "metadata": {
        "id": "nPRoQedq4TxN"
      },
      "source": [
        "Para o nosso exemplo:\n",
        "\n",
        "1) Transformar nossos dados em vetor coluna"
      ]
    },
    {
      "cell_type": "code",
      "metadata": {
        "id": "q9jNNLb1yJe2",
        "outputId": "02efd4d2-7c72-4b9a-a27e-562a9c49ef54",
        "colab": {
          "base_uri": "https://localhost:8080/",
          "height": 223
        }
      },
      "source": [
        "X.reshape(-1,1)"
      ],
      "execution_count": null,
      "outputs": [
        {
          "output_type": "execute_result",
          "data": {
            "text/plain": [
              "array([[ 1.],\n",
              "       [ 2.],\n",
              "       [ 3.],\n",
              "       [ 4.],\n",
              "       [ 5.],\n",
              "       [ 6.],\n",
              "       [ 7.],\n",
              "       [ 8.],\n",
              "       [ 9.],\n",
              "       [10.],\n",
              "       [11.]])"
            ]
          },
          "metadata": {
            "tags": []
          },
          "execution_count": 23
        }
      ]
    },
    {
      "cell_type": "code",
      "metadata": {
        "id": "sjBDXwmJxyS3",
        "outputId": "b5ed5f22-be22-437d-bef8-0bbfca6fe282",
        "colab": {
          "base_uri": "https://localhost:8080/",
          "height": 92
        }
      },
      "source": [
        "from sklearn import linear_model\n",
        "regr = linear_model.LinearRegression()\n",
        "\n",
        "# treina o modelo\n",
        "regr.fit(X.reshape(-1,1), y.reshape(-1,1))\n",
        "\n",
        "# coeficiente B1\n",
        "print('Coeficiente B1: \\n', regr.coef_)\n",
        "#intercepto B0\n",
        "print('Intercepto B0: \\n', regr.intercept_)"
      ],
      "execution_count": null,
      "outputs": [
        {
          "output_type": "stream",
          "text": [
            "Coeficiente B1: \n",
            " [[2.93181818]]\n",
            "Intercepto B0: \n",
            " [2.3]\n"
          ],
          "name": "stdout"
        }
      ]
    },
    {
      "cell_type": "code",
      "metadata": {
        "id": "eAiQ7k5U5NQe",
        "outputId": "1c6448dd-c972-43a3-eca6-57ed61defffb",
        "colab": {
          "base_uri": "https://localhost:8080/",
          "height": 54
        }
      },
      "source": [
        " x_teste = X[4]\n",
        " y_teste = y[4]\n",
        "\n",
        " y_predito = regr.intercept_ + regr.coef_ * x_teste\n",
        "\n",
        " print(\"y real: \", y_teste, \"\\ny predito: \", y_predito[0,0])"
      ],
      "execution_count": null,
      "outputs": [
        {
          "output_type": "stream",
          "text": [
            "y real:  18.8 \n",
            "y predito:  16.95909090909091\n"
          ],
          "name": "stdout"
        }
      ]
    },
    {
      "cell_type": "code",
      "metadata": {
        "id": "WqQijlig6eHK",
        "outputId": "fd785084-7347-4055-be30-f95df8481352",
        "colab": {
          "base_uri": "https://localhost:8080/",
          "height": 36
        }
      },
      "source": [
        "print(regr.predict(x_teste.reshape(1, -1)))"
      ],
      "execution_count": null,
      "outputs": [
        {
          "output_type": "stream",
          "text": [
            "[[16.95909091]]\n"
          ],
          "name": "stdout"
        }
      ]
    },
    {
      "cell_type": "markdown",
      "metadata": {
        "id": "gns4MAYA4jqe"
      },
      "source": [
        "Amostras novas:"
      ]
    },
    {
      "cell_type": "code",
      "metadata": {
        "id": "pi1mmi864kMm",
        "outputId": "b688ce10-e866-4a7e-f682-3fd5f519952c",
        "colab": {
          "base_uri": "https://localhost:8080/",
          "height": 36
        }
      },
      "source": [
        "x_novo = np.array(12)\n",
        "y_novo = 38.2\n",
        "\n",
        "print(regr.predict(x_novo.reshape(1, -1)))"
      ],
      "execution_count": null,
      "outputs": [
        {
          "output_type": "stream",
          "text": [
            "[[37.48181818]]\n"
          ],
          "name": "stdout"
        }
      ]
    },
    {
      "cell_type": "markdown",
      "metadata": {
        "id": "S7gk6ozv2CQX"
      },
      "source": [
        "# **Base de dados real**"
      ]
    },
    {
      "cell_type": "code",
      "metadata": {
        "id": "WVgSx6DpsVGn",
        "outputId": "86d8a592-63d1-450a-a32a-31f7d6e90410",
        "colab": {
          "base_uri": "https://localhost:8080/",
          "height": 749
        }
      },
      "source": [
        "import matplotlib.pyplot as plt\n",
        "import numpy as np\n",
        "from sklearn import linear_model\n",
        "from sklearn.datasets import load_diabetes\n",
        "\n",
        "# Load the diabetes dataset\n",
        "diabetes = load_diabetes()\n",
        "\n",
        "\n",
        "print (diabetes.DESCR)"
      ],
      "execution_count": null,
      "outputs": [
        {
          "output_type": "stream",
          "text": [
            ".. _diabetes_dataset:\n",
            "\n",
            "Diabetes dataset\n",
            "----------------\n",
            "\n",
            "Ten baseline variables, age, sex, body mass index, average blood\n",
            "pressure, and six blood serum measurements were obtained for each of n =\n",
            "442 diabetes patients, as well as the response of interest, a\n",
            "quantitative measure of disease progression one year after baseline.\n",
            "\n",
            "**Data Set Characteristics:**\n",
            "\n",
            "  :Number of Instances: 442\n",
            "\n",
            "  :Number of Attributes: First 10 columns are numeric predictive values\n",
            "\n",
            "  :Target: Column 11 is a quantitative measure of disease progression one year after baseline\n",
            "\n",
            "  :Attribute Information:\n",
            "      - Age\n",
            "      - Sex\n",
            "      - Body mass index\n",
            "      - Average blood pressure\n",
            "      - S1\n",
            "      - S2\n",
            "      - S3\n",
            "      - S4\n",
            "      - S5\n",
            "      - S6\n",
            "\n",
            "Note: Each of these 10 feature variables have been mean centered and scaled by the standard deviation times `n_samples` (i.e. the sum of squares of each column totals 1).\n",
            "\n",
            "Source URL:\n",
            "https://www4.stat.ncsu.edu/~boos/var.select/diabetes.html\n",
            "\n",
            "For more information see:\n",
            "Bradley Efron, Trevor Hastie, Iain Johnstone and Robert Tibshirani (2004) \"Least Angle Regression,\" Annals of Statistics (with discussion), 407-499.\n",
            "(https://web.stanford.edu/~hastie/Papers/LARS/LeastAngle_2002.pdf)\n"
          ],
          "name": "stdout"
        }
      ]
    },
    {
      "cell_type": "code",
      "metadata": {
        "id": "YapvAQPB-fsu",
        "outputId": "cde48949-91c2-445b-9b8c-7711be684713",
        "colab": {
          "base_uri": "https://localhost:8080/",
          "height": 206
        }
      },
      "source": [
        "import pandas\n",
        "\n",
        "tabela = pandas.DataFrame(diabetes.data)\n",
        "tabela.columns = diabetes.feature_names\n",
        "tabela.head()"
      ],
      "execution_count": null,
      "outputs": [
        {
          "output_type": "execute_result",
          "data": {
            "text/html": [
              "<div>\n",
              "<style scoped>\n",
              "    .dataframe tbody tr th:only-of-type {\n",
              "        vertical-align: middle;\n",
              "    }\n",
              "\n",
              "    .dataframe tbody tr th {\n",
              "        vertical-align: top;\n",
              "    }\n",
              "\n",
              "    .dataframe thead th {\n",
              "        text-align: right;\n",
              "    }\n",
              "</style>\n",
              "<table border=\"1\" class=\"dataframe\">\n",
              "  <thead>\n",
              "    <tr style=\"text-align: right;\">\n",
              "      <th></th>\n",
              "      <th>age</th>\n",
              "      <th>sex</th>\n",
              "      <th>bmi</th>\n",
              "      <th>bp</th>\n",
              "      <th>s1</th>\n",
              "      <th>s2</th>\n",
              "      <th>s3</th>\n",
              "      <th>s4</th>\n",
              "      <th>s5</th>\n",
              "      <th>s6</th>\n",
              "    </tr>\n",
              "  </thead>\n",
              "  <tbody>\n",
              "    <tr>\n",
              "      <th>0</th>\n",
              "      <td>0.038076</td>\n",
              "      <td>0.050680</td>\n",
              "      <td>0.061696</td>\n",
              "      <td>0.021872</td>\n",
              "      <td>-0.044223</td>\n",
              "      <td>-0.034821</td>\n",
              "      <td>-0.043401</td>\n",
              "      <td>-0.002592</td>\n",
              "      <td>0.019908</td>\n",
              "      <td>-0.017646</td>\n",
              "    </tr>\n",
              "    <tr>\n",
              "      <th>1</th>\n",
              "      <td>-0.001882</td>\n",
              "      <td>-0.044642</td>\n",
              "      <td>-0.051474</td>\n",
              "      <td>-0.026328</td>\n",
              "      <td>-0.008449</td>\n",
              "      <td>-0.019163</td>\n",
              "      <td>0.074412</td>\n",
              "      <td>-0.039493</td>\n",
              "      <td>-0.068330</td>\n",
              "      <td>-0.092204</td>\n",
              "    </tr>\n",
              "    <tr>\n",
              "      <th>2</th>\n",
              "      <td>0.085299</td>\n",
              "      <td>0.050680</td>\n",
              "      <td>0.044451</td>\n",
              "      <td>-0.005671</td>\n",
              "      <td>-0.045599</td>\n",
              "      <td>-0.034194</td>\n",
              "      <td>-0.032356</td>\n",
              "      <td>-0.002592</td>\n",
              "      <td>0.002864</td>\n",
              "      <td>-0.025930</td>\n",
              "    </tr>\n",
              "    <tr>\n",
              "      <th>3</th>\n",
              "      <td>-0.089063</td>\n",
              "      <td>-0.044642</td>\n",
              "      <td>-0.011595</td>\n",
              "      <td>-0.036656</td>\n",
              "      <td>0.012191</td>\n",
              "      <td>0.024991</td>\n",
              "      <td>-0.036038</td>\n",
              "      <td>0.034309</td>\n",
              "      <td>0.022692</td>\n",
              "      <td>-0.009362</td>\n",
              "    </tr>\n",
              "    <tr>\n",
              "      <th>4</th>\n",
              "      <td>0.005383</td>\n",
              "      <td>-0.044642</td>\n",
              "      <td>-0.036385</td>\n",
              "      <td>0.021872</td>\n",
              "      <td>0.003935</td>\n",
              "      <td>0.015596</td>\n",
              "      <td>0.008142</td>\n",
              "      <td>-0.002592</td>\n",
              "      <td>-0.031991</td>\n",
              "      <td>-0.046641</td>\n",
              "    </tr>\n",
              "  </tbody>\n",
              "</table>\n",
              "</div>"
            ],
            "text/plain": [
              "        age       sex       bmi  ...        s4        s5        s6\n",
              "0  0.038076  0.050680  0.061696  ... -0.002592  0.019908 -0.017646\n",
              "1 -0.001882 -0.044642 -0.051474  ... -0.039493 -0.068330 -0.092204\n",
              "2  0.085299  0.050680  0.044451  ... -0.002592  0.002864 -0.025930\n",
              "3 -0.089063 -0.044642 -0.011595  ...  0.034309  0.022692 -0.009362\n",
              "4  0.005383 -0.044642 -0.036385  ... -0.002592 -0.031991 -0.046641\n",
              "\n",
              "[5 rows x 10 columns]"
            ]
          },
          "metadata": {
            "tags": []
          },
          "execution_count": 29
        }
      ]
    },
    {
      "cell_type": "code",
      "metadata": {
        "id": "5E7LOvkd-pLL",
        "outputId": "c235c12d-8555-40c1-8dae-4ed79573300d",
        "colab": {
          "base_uri": "https://localhost:8080/",
          "height": 363
        }
      },
      "source": [
        "#mostra uma quantidade maior de linhas, no caso, 10 linhas.\n",
        "tabela.head(10)\n",
        "\n"
      ],
      "execution_count": null,
      "outputs": [
        {
          "output_type": "execute_result",
          "data": {
            "text/html": [
              "<div>\n",
              "<style scoped>\n",
              "    .dataframe tbody tr th:only-of-type {\n",
              "        vertical-align: middle;\n",
              "    }\n",
              "\n",
              "    .dataframe tbody tr th {\n",
              "        vertical-align: top;\n",
              "    }\n",
              "\n",
              "    .dataframe thead th {\n",
              "        text-align: right;\n",
              "    }\n",
              "</style>\n",
              "<table border=\"1\" class=\"dataframe\">\n",
              "  <thead>\n",
              "    <tr style=\"text-align: right;\">\n",
              "      <th></th>\n",
              "      <th>age</th>\n",
              "      <th>sex</th>\n",
              "      <th>bmi</th>\n",
              "      <th>bp</th>\n",
              "      <th>s1</th>\n",
              "      <th>s2</th>\n",
              "      <th>s3</th>\n",
              "      <th>s4</th>\n",
              "      <th>s5</th>\n",
              "      <th>s6</th>\n",
              "    </tr>\n",
              "  </thead>\n",
              "  <tbody>\n",
              "    <tr>\n",
              "      <th>0</th>\n",
              "      <td>0.038076</td>\n",
              "      <td>0.050680</td>\n",
              "      <td>0.061696</td>\n",
              "      <td>0.021872</td>\n",
              "      <td>-0.044223</td>\n",
              "      <td>-0.034821</td>\n",
              "      <td>-0.043401</td>\n",
              "      <td>-0.002592</td>\n",
              "      <td>0.019908</td>\n",
              "      <td>-0.017646</td>\n",
              "    </tr>\n",
              "    <tr>\n",
              "      <th>1</th>\n",
              "      <td>-0.001882</td>\n",
              "      <td>-0.044642</td>\n",
              "      <td>-0.051474</td>\n",
              "      <td>-0.026328</td>\n",
              "      <td>-0.008449</td>\n",
              "      <td>-0.019163</td>\n",
              "      <td>0.074412</td>\n",
              "      <td>-0.039493</td>\n",
              "      <td>-0.068330</td>\n",
              "      <td>-0.092204</td>\n",
              "    </tr>\n",
              "    <tr>\n",
              "      <th>2</th>\n",
              "      <td>0.085299</td>\n",
              "      <td>0.050680</td>\n",
              "      <td>0.044451</td>\n",
              "      <td>-0.005671</td>\n",
              "      <td>-0.045599</td>\n",
              "      <td>-0.034194</td>\n",
              "      <td>-0.032356</td>\n",
              "      <td>-0.002592</td>\n",
              "      <td>0.002864</td>\n",
              "      <td>-0.025930</td>\n",
              "    </tr>\n",
              "    <tr>\n",
              "      <th>3</th>\n",
              "      <td>-0.089063</td>\n",
              "      <td>-0.044642</td>\n",
              "      <td>-0.011595</td>\n",
              "      <td>-0.036656</td>\n",
              "      <td>0.012191</td>\n",
              "      <td>0.024991</td>\n",
              "      <td>-0.036038</td>\n",
              "      <td>0.034309</td>\n",
              "      <td>0.022692</td>\n",
              "      <td>-0.009362</td>\n",
              "    </tr>\n",
              "    <tr>\n",
              "      <th>4</th>\n",
              "      <td>0.005383</td>\n",
              "      <td>-0.044642</td>\n",
              "      <td>-0.036385</td>\n",
              "      <td>0.021872</td>\n",
              "      <td>0.003935</td>\n",
              "      <td>0.015596</td>\n",
              "      <td>0.008142</td>\n",
              "      <td>-0.002592</td>\n",
              "      <td>-0.031991</td>\n",
              "      <td>-0.046641</td>\n",
              "    </tr>\n",
              "    <tr>\n",
              "      <th>5</th>\n",
              "      <td>-0.092695</td>\n",
              "      <td>-0.044642</td>\n",
              "      <td>-0.040696</td>\n",
              "      <td>-0.019442</td>\n",
              "      <td>-0.068991</td>\n",
              "      <td>-0.079288</td>\n",
              "      <td>0.041277</td>\n",
              "      <td>-0.076395</td>\n",
              "      <td>-0.041180</td>\n",
              "      <td>-0.096346</td>\n",
              "    </tr>\n",
              "    <tr>\n",
              "      <th>6</th>\n",
              "      <td>-0.045472</td>\n",
              "      <td>0.050680</td>\n",
              "      <td>-0.047163</td>\n",
              "      <td>-0.015999</td>\n",
              "      <td>-0.040096</td>\n",
              "      <td>-0.024800</td>\n",
              "      <td>0.000779</td>\n",
              "      <td>-0.039493</td>\n",
              "      <td>-0.062913</td>\n",
              "      <td>-0.038357</td>\n",
              "    </tr>\n",
              "    <tr>\n",
              "      <th>7</th>\n",
              "      <td>0.063504</td>\n",
              "      <td>0.050680</td>\n",
              "      <td>-0.001895</td>\n",
              "      <td>0.066630</td>\n",
              "      <td>0.090620</td>\n",
              "      <td>0.108914</td>\n",
              "      <td>0.022869</td>\n",
              "      <td>0.017703</td>\n",
              "      <td>-0.035817</td>\n",
              "      <td>0.003064</td>\n",
              "    </tr>\n",
              "    <tr>\n",
              "      <th>8</th>\n",
              "      <td>0.041708</td>\n",
              "      <td>0.050680</td>\n",
              "      <td>0.061696</td>\n",
              "      <td>-0.040099</td>\n",
              "      <td>-0.013953</td>\n",
              "      <td>0.006202</td>\n",
              "      <td>-0.028674</td>\n",
              "      <td>-0.002592</td>\n",
              "      <td>-0.014956</td>\n",
              "      <td>0.011349</td>\n",
              "    </tr>\n",
              "    <tr>\n",
              "      <th>9</th>\n",
              "      <td>-0.070900</td>\n",
              "      <td>-0.044642</td>\n",
              "      <td>0.039062</td>\n",
              "      <td>-0.033214</td>\n",
              "      <td>-0.012577</td>\n",
              "      <td>-0.034508</td>\n",
              "      <td>-0.024993</td>\n",
              "      <td>-0.002592</td>\n",
              "      <td>0.067736</td>\n",
              "      <td>-0.013504</td>\n",
              "    </tr>\n",
              "  </tbody>\n",
              "</table>\n",
              "</div>"
            ],
            "text/plain": [
              "        age       sex       bmi  ...        s4        s5        s6\n",
              "0  0.038076  0.050680  0.061696  ... -0.002592  0.019908 -0.017646\n",
              "1 -0.001882 -0.044642 -0.051474  ... -0.039493 -0.068330 -0.092204\n",
              "2  0.085299  0.050680  0.044451  ... -0.002592  0.002864 -0.025930\n",
              "3 -0.089063 -0.044642 -0.011595  ...  0.034309  0.022692 -0.009362\n",
              "4  0.005383 -0.044642 -0.036385  ... -0.002592 -0.031991 -0.046641\n",
              "5 -0.092695 -0.044642 -0.040696  ... -0.076395 -0.041180 -0.096346\n",
              "6 -0.045472  0.050680 -0.047163  ... -0.039493 -0.062913 -0.038357\n",
              "7  0.063504  0.050680 -0.001895  ...  0.017703 -0.035817  0.003064\n",
              "8  0.041708  0.050680  0.061696  ... -0.002592 -0.014956  0.011349\n",
              "9 -0.070900 -0.044642  0.039062  ... -0.002592  0.067736 -0.013504\n",
              "\n",
              "[10 rows x 10 columns]"
            ]
          },
          "metadata": {
            "tags": []
          },
          "execution_count": 30
        }
      ]
    },
    {
      "cell_type": "code",
      "metadata": {
        "id": "32_JjRWu-wH2",
        "outputId": "06917a49-8feb-476a-9896-326f2f58c6e0",
        "colab": {
          "base_uri": "https://localhost:8080/",
          "height": 363
        }
      },
      "source": [
        "# e a progressao da doenca\n",
        "tabela['y'] = diabetes.target\n",
        "tabela.head(10)\n",
        "\n"
      ],
      "execution_count": null,
      "outputs": [
        {
          "output_type": "execute_result",
          "data": {
            "text/html": [
              "<div>\n",
              "<style scoped>\n",
              "    .dataframe tbody tr th:only-of-type {\n",
              "        vertical-align: middle;\n",
              "    }\n",
              "\n",
              "    .dataframe tbody tr th {\n",
              "        vertical-align: top;\n",
              "    }\n",
              "\n",
              "    .dataframe thead th {\n",
              "        text-align: right;\n",
              "    }\n",
              "</style>\n",
              "<table border=\"1\" class=\"dataframe\">\n",
              "  <thead>\n",
              "    <tr style=\"text-align: right;\">\n",
              "      <th></th>\n",
              "      <th>age</th>\n",
              "      <th>sex</th>\n",
              "      <th>bmi</th>\n",
              "      <th>bp</th>\n",
              "      <th>s1</th>\n",
              "      <th>s2</th>\n",
              "      <th>s3</th>\n",
              "      <th>s4</th>\n",
              "      <th>s5</th>\n",
              "      <th>s6</th>\n",
              "      <th>y</th>\n",
              "    </tr>\n",
              "  </thead>\n",
              "  <tbody>\n",
              "    <tr>\n",
              "      <th>0</th>\n",
              "      <td>0.038076</td>\n",
              "      <td>0.050680</td>\n",
              "      <td>0.061696</td>\n",
              "      <td>0.021872</td>\n",
              "      <td>-0.044223</td>\n",
              "      <td>-0.034821</td>\n",
              "      <td>-0.043401</td>\n",
              "      <td>-0.002592</td>\n",
              "      <td>0.019908</td>\n",
              "      <td>-0.017646</td>\n",
              "      <td>151.0</td>\n",
              "    </tr>\n",
              "    <tr>\n",
              "      <th>1</th>\n",
              "      <td>-0.001882</td>\n",
              "      <td>-0.044642</td>\n",
              "      <td>-0.051474</td>\n",
              "      <td>-0.026328</td>\n",
              "      <td>-0.008449</td>\n",
              "      <td>-0.019163</td>\n",
              "      <td>0.074412</td>\n",
              "      <td>-0.039493</td>\n",
              "      <td>-0.068330</td>\n",
              "      <td>-0.092204</td>\n",
              "      <td>75.0</td>\n",
              "    </tr>\n",
              "    <tr>\n",
              "      <th>2</th>\n",
              "      <td>0.085299</td>\n",
              "      <td>0.050680</td>\n",
              "      <td>0.044451</td>\n",
              "      <td>-0.005671</td>\n",
              "      <td>-0.045599</td>\n",
              "      <td>-0.034194</td>\n",
              "      <td>-0.032356</td>\n",
              "      <td>-0.002592</td>\n",
              "      <td>0.002864</td>\n",
              "      <td>-0.025930</td>\n",
              "      <td>141.0</td>\n",
              "    </tr>\n",
              "    <tr>\n",
              "      <th>3</th>\n",
              "      <td>-0.089063</td>\n",
              "      <td>-0.044642</td>\n",
              "      <td>-0.011595</td>\n",
              "      <td>-0.036656</td>\n",
              "      <td>0.012191</td>\n",
              "      <td>0.024991</td>\n",
              "      <td>-0.036038</td>\n",
              "      <td>0.034309</td>\n",
              "      <td>0.022692</td>\n",
              "      <td>-0.009362</td>\n",
              "      <td>206.0</td>\n",
              "    </tr>\n",
              "    <tr>\n",
              "      <th>4</th>\n",
              "      <td>0.005383</td>\n",
              "      <td>-0.044642</td>\n",
              "      <td>-0.036385</td>\n",
              "      <td>0.021872</td>\n",
              "      <td>0.003935</td>\n",
              "      <td>0.015596</td>\n",
              "      <td>0.008142</td>\n",
              "      <td>-0.002592</td>\n",
              "      <td>-0.031991</td>\n",
              "      <td>-0.046641</td>\n",
              "      <td>135.0</td>\n",
              "    </tr>\n",
              "    <tr>\n",
              "      <th>5</th>\n",
              "      <td>-0.092695</td>\n",
              "      <td>-0.044642</td>\n",
              "      <td>-0.040696</td>\n",
              "      <td>-0.019442</td>\n",
              "      <td>-0.068991</td>\n",
              "      <td>-0.079288</td>\n",
              "      <td>0.041277</td>\n",
              "      <td>-0.076395</td>\n",
              "      <td>-0.041180</td>\n",
              "      <td>-0.096346</td>\n",
              "      <td>97.0</td>\n",
              "    </tr>\n",
              "    <tr>\n",
              "      <th>6</th>\n",
              "      <td>-0.045472</td>\n",
              "      <td>0.050680</td>\n",
              "      <td>-0.047163</td>\n",
              "      <td>-0.015999</td>\n",
              "      <td>-0.040096</td>\n",
              "      <td>-0.024800</td>\n",
              "      <td>0.000779</td>\n",
              "      <td>-0.039493</td>\n",
              "      <td>-0.062913</td>\n",
              "      <td>-0.038357</td>\n",
              "      <td>138.0</td>\n",
              "    </tr>\n",
              "    <tr>\n",
              "      <th>7</th>\n",
              "      <td>0.063504</td>\n",
              "      <td>0.050680</td>\n",
              "      <td>-0.001895</td>\n",
              "      <td>0.066630</td>\n",
              "      <td>0.090620</td>\n",
              "      <td>0.108914</td>\n",
              "      <td>0.022869</td>\n",
              "      <td>0.017703</td>\n",
              "      <td>-0.035817</td>\n",
              "      <td>0.003064</td>\n",
              "      <td>63.0</td>\n",
              "    </tr>\n",
              "    <tr>\n",
              "      <th>8</th>\n",
              "      <td>0.041708</td>\n",
              "      <td>0.050680</td>\n",
              "      <td>0.061696</td>\n",
              "      <td>-0.040099</td>\n",
              "      <td>-0.013953</td>\n",
              "      <td>0.006202</td>\n",
              "      <td>-0.028674</td>\n",
              "      <td>-0.002592</td>\n",
              "      <td>-0.014956</td>\n",
              "      <td>0.011349</td>\n",
              "      <td>110.0</td>\n",
              "    </tr>\n",
              "    <tr>\n",
              "      <th>9</th>\n",
              "      <td>-0.070900</td>\n",
              "      <td>-0.044642</td>\n",
              "      <td>0.039062</td>\n",
              "      <td>-0.033214</td>\n",
              "      <td>-0.012577</td>\n",
              "      <td>-0.034508</td>\n",
              "      <td>-0.024993</td>\n",
              "      <td>-0.002592</td>\n",
              "      <td>0.067736</td>\n",
              "      <td>-0.013504</td>\n",
              "      <td>310.0</td>\n",
              "    </tr>\n",
              "  </tbody>\n",
              "</table>\n",
              "</div>"
            ],
            "text/plain": [
              "        age       sex       bmi        bp  ...        s4        s5        s6      y\n",
              "0  0.038076  0.050680  0.061696  0.021872  ... -0.002592  0.019908 -0.017646  151.0\n",
              "1 -0.001882 -0.044642 -0.051474 -0.026328  ... -0.039493 -0.068330 -0.092204   75.0\n",
              "2  0.085299  0.050680  0.044451 -0.005671  ... -0.002592  0.002864 -0.025930  141.0\n",
              "3 -0.089063 -0.044642 -0.011595 -0.036656  ...  0.034309  0.022692 -0.009362  206.0\n",
              "4  0.005383 -0.044642 -0.036385  0.021872  ... -0.002592 -0.031991 -0.046641  135.0\n",
              "5 -0.092695 -0.044642 -0.040696 -0.019442  ... -0.076395 -0.041180 -0.096346   97.0\n",
              "6 -0.045472  0.050680 -0.047163 -0.015999  ... -0.039493 -0.062913 -0.038357  138.0\n",
              "7  0.063504  0.050680 -0.001895  0.066630  ...  0.017703 -0.035817  0.003064   63.0\n",
              "8  0.041708  0.050680  0.061696 -0.040099  ... -0.002592 -0.014956  0.011349  110.0\n",
              "9 -0.070900 -0.044642  0.039062 -0.033214  ... -0.002592  0.067736 -0.013504  310.0\n",
              "\n",
              "[10 rows x 11 columns]"
            ]
          },
          "metadata": {
            "tags": []
          },
          "execution_count": 31
        }
      ]
    },
    {
      "cell_type": "code",
      "metadata": {
        "id": "JXY0sXKQsc2m",
        "outputId": "74a77e88-8705-46f9-e095-9241052d10a0",
        "colab": {
          "base_uri": "https://localhost:8080/",
          "height": 92
        }
      },
      "source": [
        "X = tabela['age']\n",
        "X_treinamento = X[:-20].array.to_numpy().reshape(-1,1)\n",
        "X_teste = X[-20:].array.to_numpy().reshape(-1,1)\n",
        "\n",
        "y = tabela['y']\n",
        "y_treinamento = y[:-20]\n",
        "y_teste = y[-20:].array.to_numpy().reshape(-1,1)\n",
        "\n",
        "\n",
        "regr = linear_model.LinearRegression()\n",
        "\n",
        "regr.fit(X_treinamento, y_treinamento)\n",
        "\n",
        "#coeficientes b1\n",
        "print('Coeficiente b1: \\n', regr.coef_)\n",
        "#intercepto b0\n",
        "print('Coeficiente b0: \\n', regr.intercept_)"
      ],
      "execution_count": null,
      "outputs": [
        {
          "output_type": "stream",
          "text": [
            "Coeficiente b1: \n",
            " [306.72757499]\n",
            "Coeficiente b0: \n",
            " 153.24279071761313\n"
          ],
          "name": "stdout"
        }
      ]
    },
    {
      "cell_type": "code",
      "metadata": {
        "id": "K_xfKA8cBJU5",
        "outputId": "15cee042-96ab-476d-c5f2-953e9add0439",
        "colab": {
          "base_uri": "https://localhost:8080/",
          "height": 252
        }
      },
      "source": [
        "# Predição\n",
        "diabetes_y_pred = regr.predict(X_teste)\n",
        "\n",
        "plt.scatter(X_teste,y_teste,  color='black')\n",
        "plt.plot(X_teste, diabetes_y_pred, color='blue', linewidth=3)\n",
        "\n",
        "plt.xticks(())\n",
        "plt.yticks(())\n",
        "\n",
        "plt.show()"
      ],
      "execution_count": null,
      "outputs": [
        {
          "output_type": "display_data",
          "data": {
            "image/png": "[encoded data removed]",
            "text/plain": [
              "<Figure size 432x288 with 1 Axes>"
            ]
          },
          "metadata": {
            "tags": []
          }
        }
      ]
    },
    {
      "cell_type": "markdown",
      "metadata": {
        "id": "JJC6n2Q8m7QT"
      },
      "source": [
        "Como podemos comparar dois modelos? Uma abordagem simples, e também ingênua, é observar a diferença entre o valor real e o valor predito.\n",
        "\n",
        "\n",
        "\n",
        "\n"
      ]
    },
    {
      "cell_type": "markdown",
      "metadata": {
        "id": "Y_UR3examB7r"
      },
      "source": [
        "![perda.png](data:image/png;base64,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)"
      ]
    },
    {
      "cell_type": "markdown",
      "metadata": {
        "id": "SIGIUu4apMTS"
      },
      "source": [
        "Fonte: https://developers.google.com/machine-learning/crash-course/descending-into-ml/training-and-loss"
      ]
    },
    {
      "cell_type": "code",
      "metadata": {
        "id": "ZBxM4kqkmAs_",
        "outputId": "ac5aece1-9627-454a-9a01-0f69da9c454e",
        "colab": {
          "base_uri": "https://localhost:8080/",
          "height": 36
        }
      },
      "source": [
        "print('Erro médio: ', sum(abs(y_teste-diabetes_y_pred.reshape(-1,1))))"
      ],
      "execution_count": null,
      "outputs": [
        {
          "output_type": "stream",
          "text": [
            "Erro médio:  [1311.1629406]\n"
          ],
          "name": "stdout"
        }
      ]
    },
    {
      "cell_type": "markdown",
      "metadata": {
        "id": "nzCFr7LiofkO"
      },
      "source": [
        "# Exercício\n",
        "\n",
        "Considere, pelo menos, outras duas características da base de dados Diabetes, repita o exercício:\n",
        "\n",
        "1.   Para cada característica individualmente compare o resultado com a característica \"age\", visualmente (gráfico) e por meio duas medidas de erro: $abs(y_{teste} - y_{predito})$) e outra medida da escolha de vocês.\n",
        "2.   Adicionalmente, combine as duas características (regressão com duas variáveis) e analise o resultado com base nas duas medidas de erro no item anterior.\n",
        "\n",
        "\n",
        "O código deve ser enviado ao Github e apresentado pelo Flipgrid.\n",
        "\n",
        "**Data: 07-10-2020**"
      ]
    },
    {
      "cell_type": "markdown",
      "metadata": {
        "id": "0h41jF8975ny"
      },
      "source": [
        "**Bibliografia**\n",
        "\n",
        "https://medium.com/ensina-ai/ntendendo-a-biblioteca-numpy-4858fde63355\n",
        "\n",
        "https://developers.google.com/machine-learning/crash-course/descending-into-ml/video-lecture\n",
        "\n",
        "https://developers.google.com/machine-learning/crash-course/descending-into-ml/linear-regression"
      ]
    }
  ]
}