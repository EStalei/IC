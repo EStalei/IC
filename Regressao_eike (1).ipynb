{
  "nbformat": 4,
  "nbformat_minor": 0,
  "metadata": {
    "colab": {
      "name": "Regressao_eike.ipynb",
      "provenance": [],
      "collapsed_sections": []
    },
    "kernelspec": {
      "name": "python3",
      "display_name": "Python 3"
    }
  },
  "cells": [
    {
      "cell_type": "markdown",
      "metadata": {
        "id": "nwYMnxS6s1Cc"
      },
      "source": [
        "\n",
        "**Disciplina: Tópicos em Inteligência Computacional**\n",
        "\n",
        "Instituto Federal do Norte de Minas Gerais Campus Montes Claros\n",
        "\n",
        "Curso: Ciência da Computação\n",
        "\n",
        "Professora: Luciana Balieiro Cosme\n",
        "\n",
        "Aluno: Eike Stálei Vieira Neves\n",
        "\n",
        "\n",
        "\n",
        "---\n",
        "\n",
        "\n",
        "# Exercício\n",
        "\n",
        "Considere, pelo menos, outras duas características da base de dados Diabetes, repita o exercício:\n",
        "\n",
        "1.   Para cada característica individualmente compare o resultado com a característica \"age\", visualmente (gráfico) e por meio duas medidas de erro: $abs(y_{teste} - y_{predito})$) e outra medida da escolha de vocês.\n",
        "2.   Adicionalmente, combine as duas características (regressão com duas variáveis) e analise o resultado com base nas duas medidas de erro no item anterior.\n",
        "\n",
        "\n",
        "O código deve ser enviado ao Github e apresentado pelo Flipgrid.\n",
        "\n",
        "**Data: 07-10-2020**\n"
      ]
    },
    {
      "cell_type": "markdown",
      "metadata": {
        "id": "S7gk6ozv2CQX"
      },
      "source": [
        "# **Base de dados real**"
      ]
    },
    {
      "cell_type": "code",
      "metadata": {
        "id": "WVgSx6DpsVGn",
        "outputId": "db971596-efa4-4160-f54c-f7a522858052",
        "colab": {
          "base_uri": "https://localhost:8080/"
        }
      },
      "source": [
        "import matplotlib.pyplot as plt\n",
        "import numpy as np\n",
        "from sklearn import linear_model\n",
        "from sklearn.datasets import load_diabetes\n",
        "\n",
        "# Load the diabetes dataset\n",
        "diabetes = load_diabetes()\n",
        "\n",
        "\n",
        "print (diabetes.DESCR)"
      ],
      "execution_count": 71,
      "outputs": [
        {
          "output_type": "stream",
          "text": [
            ".. _diabetes_dataset:\n",
            "\n",
            "Diabetes dataset\n",
            "----------------\n",
            "\n",
            "Ten baseline variables, age, sex, body mass index, average blood\n",
            "pressure, and six blood serum measurements were obtained for each of n =\n",
            "442 diabetes patients, as well as the response of interest, a\n",
            "quantitative measure of disease progression one year after baseline.\n",
            "\n",
            "**Data Set Characteristics:**\n",
            "\n",
            "  :Number of Instances: 442\n",
            "\n",
            "  :Number of Attributes: First 10 columns are numeric predictive values\n",
            "\n",
            "  :Target: Column 11 is a quantitative measure of disease progression one year after baseline\n",
            "\n",
            "  :Attribute Information:\n",
            "      - Age\n",
            "      - Sex\n",
            "      - Body mass index\n",
            "      - Average blood pressure\n",
            "      - S1\n",
            "      - S2\n",
            "      - S3\n",
            "      - S4\n",
            "      - S5\n",
            "      - S6\n",
            "\n",
            "Note: Each of these 10 feature variables have been mean centered and scaled by the standard deviation times `n_samples` (i.e. the sum of squares of each column totals 1).\n",
            "\n",
            "Source URL:\n",
            "https://www4.stat.ncsu.edu/~boos/var.select/diabetes.html\n",
            "\n",
            "For more information see:\n",
            "Bradley Efron, Trevor Hastie, Iain Johnstone and Robert Tibshirani (2004) \"Least Angle Regression,\" Annals of Statistics (with discussion), 407-499.\n",
            "(https://web.stanford.edu/~hastie/Papers/LARS/LeastAngle_2002.pdf)\n"
          ],
          "name": "stdout"
        }
      ]
    },
    {
      "cell_type": "code",
      "metadata": {
        "id": "YapvAQPB-fsu",
        "outputId": "aef4176b-9f7f-45bf-b996-23ae0e1c9fd5",
        "colab": {
          "base_uri": "https://localhost:8080/",
          "height": 204
        }
      },
      "source": [
        "import pandas\n",
        "\n",
        "tabela = pandas.DataFrame(diabetes.data)\n",
        "tabela.columns = diabetes.feature_names\n",
        "tabela.head()"
      ],
      "execution_count": 72,
      "outputs": [
        {
          "output_type": "execute_result",
          "data": {
            "text/html": [
              "<div>\n",
              "<style scoped>\n",
              "    .dataframe tbody tr th:only-of-type {\n",
              "        vertical-align: middle;\n",
              "    }\n",
              "\n",
              "    .dataframe tbody tr th {\n",
              "        vertical-align: top;\n",
              "    }\n",
              "\n",
              "    .dataframe thead th {\n",
              "        text-align: right;\n",
              "    }\n",
              "</style>\n",
              "<table border=\"1\" class=\"dataframe\">\n",
              "  <thead>\n",
              "    <tr style=\"text-align: right;\">\n",
              "      <th></th>\n",
              "      <th>age</th>\n",
              "      <th>sex</th>\n",
              "      <th>bmi</th>\n",
              "      <th>bp</th>\n",
              "      <th>s1</th>\n",
              "      <th>s2</th>\n",
              "      <th>s3</th>\n",
              "      <th>s4</th>\n",
              "      <th>s5</th>\n",
              "      <th>s6</th>\n",
              "    </tr>\n",
              "  </thead>\n",
              "  <tbody>\n",
              "    <tr>\n",
              "      <th>0</th>\n",
              "      <td>0.038076</td>\n",
              "      <td>0.050680</td>\n",
              "      <td>0.061696</td>\n",
              "      <td>0.021872</td>\n",
              "      <td>-0.044223</td>\n",
              "      <td>-0.034821</td>\n",
              "      <td>-0.043401</td>\n",
              "      <td>-0.002592</td>\n",
              "      <td>0.019908</td>\n",
              "      <td>-0.017646</td>\n",
              "    </tr>\n",
              "    <tr>\n",
              "      <th>1</th>\n",
              "      <td>-0.001882</td>\n",
              "      <td>-0.044642</td>\n",
              "      <td>-0.051474</td>\n",
              "      <td>-0.026328</td>\n",
              "      <td>-0.008449</td>\n",
              "      <td>-0.019163</td>\n",
              "      <td>0.074412</td>\n",
              "      <td>-0.039493</td>\n",
              "      <td>-0.068330</td>\n",
              "      <td>-0.092204</td>\n",
              "    </tr>\n",
              "    <tr>\n",
              "      <th>2</th>\n",
              "      <td>0.085299</td>\n",
              "      <td>0.050680</td>\n",
              "      <td>0.044451</td>\n",
              "      <td>-0.005671</td>\n",
              "      <td>-0.045599</td>\n",
              "      <td>-0.034194</td>\n",
              "      <td>-0.032356</td>\n",
              "      <td>-0.002592</td>\n",
              "      <td>0.002864</td>\n",
              "      <td>-0.025930</td>\n",
              "    </tr>\n",
              "    <tr>\n",
              "      <th>3</th>\n",
              "      <td>-0.089063</td>\n",
              "      <td>-0.044642</td>\n",
              "      <td>-0.011595</td>\n",
              "      <td>-0.036656</td>\n",
              "      <td>0.012191</td>\n",
              "      <td>0.024991</td>\n",
              "      <td>-0.036038</td>\n",
              "      <td>0.034309</td>\n",
              "      <td>0.022692</td>\n",
              "      <td>-0.009362</td>\n",
              "    </tr>\n",
              "    <tr>\n",
              "      <th>4</th>\n",
              "      <td>0.005383</td>\n",
              "      <td>-0.044642</td>\n",
              "      <td>-0.036385</td>\n",
              "      <td>0.021872</td>\n",
              "      <td>0.003935</td>\n",
              "      <td>0.015596</td>\n",
              "      <td>0.008142</td>\n",
              "      <td>-0.002592</td>\n",
              "      <td>-0.031991</td>\n",
              "      <td>-0.046641</td>\n",
              "    </tr>\n",
              "  </tbody>\n",
              "</table>\n",
              "</div>"
            ],
            "text/plain": [
              "        age       sex       bmi  ...        s4        s5        s6\n",
              "0  0.038076  0.050680  0.061696  ... -0.002592  0.019908 -0.017646\n",
              "1 -0.001882 -0.044642 -0.051474  ... -0.039493 -0.068330 -0.092204\n",
              "2  0.085299  0.050680  0.044451  ... -0.002592  0.002864 -0.025930\n",
              "3 -0.089063 -0.044642 -0.011595  ...  0.034309  0.022692 -0.009362\n",
              "4  0.005383 -0.044642 -0.036385  ... -0.002592 -0.031991 -0.046641\n",
              "\n",
              "[5 rows x 10 columns]"
            ]
          },
          "metadata": {
            "tags": []
          },
          "execution_count": 72
        }
      ]
    },
    {
      "cell_type": "code",
      "metadata": {
        "id": "32_JjRWu-wH2",
        "outputId": "c336f4ad-d492-43c5-e8ad-8aad2696f0f6",
        "colab": {
          "base_uri": "https://localhost:8080/",
          "height": 359
        }
      },
      "source": [
        "# a progressao da doenca\n",
        "tabela['y'] = diabetes.target\n",
        "tabela.head(10)\n",
        "\n"
      ],
      "execution_count": 74,
      "outputs": [
        {
          "output_type": "execute_result",
          "data": {
            "text/html": [
              "<div>\n",
              "<style scoped>\n",
              "    .dataframe tbody tr th:only-of-type {\n",
              "        vertical-align: middle;\n",
              "    }\n",
              "\n",
              "    .dataframe tbody tr th {\n",
              "        vertical-align: top;\n",
              "    }\n",
              "\n",
              "    .dataframe thead th {\n",
              "        text-align: right;\n",
              "    }\n",
              "</style>\n",
              "<table border=\"1\" class=\"dataframe\">\n",
              "  <thead>\n",
              "    <tr style=\"text-align: right;\">\n",
              "      <th></th>\n",
              "      <th>age</th>\n",
              "      <th>sex</th>\n",
              "      <th>bmi</th>\n",
              "      <th>bp</th>\n",
              "      <th>s1</th>\n",
              "      <th>s2</th>\n",
              "      <th>s3</th>\n",
              "      <th>s4</th>\n",
              "      <th>s5</th>\n",
              "      <th>s6</th>\n",
              "      <th>y</th>\n",
              "    </tr>\n",
              "  </thead>\n",
              "  <tbody>\n",
              "    <tr>\n",
              "      <th>0</th>\n",
              "      <td>0.038076</td>\n",
              "      <td>0.050680</td>\n",
              "      <td>0.061696</td>\n",
              "      <td>0.021872</td>\n",
              "      <td>-0.044223</td>\n",
              "      <td>-0.034821</td>\n",
              "      <td>-0.043401</td>\n",
              "      <td>-0.002592</td>\n",
              "      <td>0.019908</td>\n",
              "      <td>-0.017646</td>\n",
              "      <td>151.0</td>\n",
              "    </tr>\n",
              "    <tr>\n",
              "      <th>1</th>\n",
              "      <td>-0.001882</td>\n",
              "      <td>-0.044642</td>\n",
              "      <td>-0.051474</td>\n",
              "      <td>-0.026328</td>\n",
              "      <td>-0.008449</td>\n",
              "      <td>-0.019163</td>\n",
              "      <td>0.074412</td>\n",
              "      <td>-0.039493</td>\n",
              "      <td>-0.068330</td>\n",
              "      <td>-0.092204</td>\n",
              "      <td>75.0</td>\n",
              "    </tr>\n",
              "    <tr>\n",
              "      <th>2</th>\n",
              "      <td>0.085299</td>\n",
              "      <td>0.050680</td>\n",
              "      <td>0.044451</td>\n",
              "      <td>-0.005671</td>\n",
              "      <td>-0.045599</td>\n",
              "      <td>-0.034194</td>\n",
              "      <td>-0.032356</td>\n",
              "      <td>-0.002592</td>\n",
              "      <td>0.002864</td>\n",
              "      <td>-0.025930</td>\n",
              "      <td>141.0</td>\n",
              "    </tr>\n",
              "    <tr>\n",
              "      <th>3</th>\n",
              "      <td>-0.089063</td>\n",
              "      <td>-0.044642</td>\n",
              "      <td>-0.011595</td>\n",
              "      <td>-0.036656</td>\n",
              "      <td>0.012191</td>\n",
              "      <td>0.024991</td>\n",
              "      <td>-0.036038</td>\n",
              "      <td>0.034309</td>\n",
              "      <td>0.022692</td>\n",
              "      <td>-0.009362</td>\n",
              "      <td>206.0</td>\n",
              "    </tr>\n",
              "    <tr>\n",
              "      <th>4</th>\n",
              "      <td>0.005383</td>\n",
              "      <td>-0.044642</td>\n",
              "      <td>-0.036385</td>\n",
              "      <td>0.021872</td>\n",
              "      <td>0.003935</td>\n",
              "      <td>0.015596</td>\n",
              "      <td>0.008142</td>\n",
              "      <td>-0.002592</td>\n",
              "      <td>-0.031991</td>\n",
              "      <td>-0.046641</td>\n",
              "      <td>135.0</td>\n",
              "    </tr>\n",
              "    <tr>\n",
              "      <th>5</th>\n",
              "      <td>-0.092695</td>\n",
              "      <td>-0.044642</td>\n",
              "      <td>-0.040696</td>\n",
              "      <td>-0.019442</td>\n",
              "      <td>-0.068991</td>\n",
              "      <td>-0.079288</td>\n",
              "      <td>0.041277</td>\n",
              "      <td>-0.076395</td>\n",
              "      <td>-0.041180</td>\n",
              "      <td>-0.096346</td>\n",
              "      <td>97.0</td>\n",
              "    </tr>\n",
              "    <tr>\n",
              "      <th>6</th>\n",
              "      <td>-0.045472</td>\n",
              "      <td>0.050680</td>\n",
              "      <td>-0.047163</td>\n",
              "      <td>-0.015999</td>\n",
              "      <td>-0.040096</td>\n",
              "      <td>-0.024800</td>\n",
              "      <td>0.000779</td>\n",
              "      <td>-0.039493</td>\n",
              "      <td>-0.062913</td>\n",
              "      <td>-0.038357</td>\n",
              "      <td>138.0</td>\n",
              "    </tr>\n",
              "    <tr>\n",
              "      <th>7</th>\n",
              "      <td>0.063504</td>\n",
              "      <td>0.050680</td>\n",
              "      <td>-0.001895</td>\n",
              "      <td>0.066630</td>\n",
              "      <td>0.090620</td>\n",
              "      <td>0.108914</td>\n",
              "      <td>0.022869</td>\n",
              "      <td>0.017703</td>\n",
              "      <td>-0.035817</td>\n",
              "      <td>0.003064</td>\n",
              "      <td>63.0</td>\n",
              "    </tr>\n",
              "    <tr>\n",
              "      <th>8</th>\n",
              "      <td>0.041708</td>\n",
              "      <td>0.050680</td>\n",
              "      <td>0.061696</td>\n",
              "      <td>-0.040099</td>\n",
              "      <td>-0.013953</td>\n",
              "      <td>0.006202</td>\n",
              "      <td>-0.028674</td>\n",
              "      <td>-0.002592</td>\n",
              "      <td>-0.014956</td>\n",
              "      <td>0.011349</td>\n",
              "      <td>110.0</td>\n",
              "    </tr>\n",
              "    <tr>\n",
              "      <th>9</th>\n",
              "      <td>-0.070900</td>\n",
              "      <td>-0.044642</td>\n",
              "      <td>0.039062</td>\n",
              "      <td>-0.033214</td>\n",
              "      <td>-0.012577</td>\n",
              "      <td>-0.034508</td>\n",
              "      <td>-0.024993</td>\n",
              "      <td>-0.002592</td>\n",
              "      <td>0.067736</td>\n",
              "      <td>-0.013504</td>\n",
              "      <td>310.0</td>\n",
              "    </tr>\n",
              "  </tbody>\n",
              "</table>\n",
              "</div>"
            ],
            "text/plain": [
              "        age       sex       bmi        bp  ...        s4        s5        s6      y\n",
              "0  0.038076  0.050680  0.061696  0.021872  ... -0.002592  0.019908 -0.017646  151.0\n",
              "1 -0.001882 -0.044642 -0.051474 -0.026328  ... -0.039493 -0.068330 -0.092204   75.0\n",
              "2  0.085299  0.050680  0.044451 -0.005671  ... -0.002592  0.002864 -0.025930  141.0\n",
              "3 -0.089063 -0.044642 -0.011595 -0.036656  ...  0.034309  0.022692 -0.009362  206.0\n",
              "4  0.005383 -0.044642 -0.036385  0.021872  ... -0.002592 -0.031991 -0.046641  135.0\n",
              "5 -0.092695 -0.044642 -0.040696 -0.019442  ... -0.076395 -0.041180 -0.096346   97.0\n",
              "6 -0.045472  0.050680 -0.047163 -0.015999  ... -0.039493 -0.062913 -0.038357  138.0\n",
              "7  0.063504  0.050680 -0.001895  0.066630  ...  0.017703 -0.035817  0.003064   63.0\n",
              "8  0.041708  0.050680  0.061696 -0.040099  ... -0.002592 -0.014956  0.011349  110.0\n",
              "9 -0.070900 -0.044642  0.039062 -0.033214  ... -0.002592  0.067736 -0.013504  310.0\n",
              "\n",
              "[10 rows x 11 columns]"
            ]
          },
          "metadata": {
            "tags": []
          },
          "execution_count": 74
        }
      ]
    },
    {
      "cell_type": "code",
      "metadata": {
        "id": "JXY0sXKQsc2m",
        "outputId": "9dd6af30-8294-4848-b798-1b52ec4c508a",
        "colab": {
          "base_uri": "https://localhost:8080/"
        }
      },
      "source": [
        "X = tabela['age']\n",
        "X_treinamento = X[:-20].array.to_numpy().reshape(-1,1)\n",
        "X_teste = X[-20:].array.to_numpy().reshape(-1,1)\n",
        "\n",
        "Z = tabela['bmi']\n",
        "Z_treinamento = Z[:-20].array.to_numpy().reshape(-1,1)\n",
        "Z_teste = Z[-20:].array.to_numpy().reshape(-1,1)\n",
        "\n",
        "y = tabela['y']\n",
        "y_treinamento = y[:-20]\n",
        "y_teste = y[-20:].array.to_numpy().reshape(-1,1)\n",
        "\n",
        "\n",
        "regr = linear_model.LinearRegression()\n",
        "\n",
        "regr.fit(X_treinamento, y_treinamento)\n",
        "regr.fit(Z_treinamento, y_treinamento)\n",
        "\n",
        "# Predição\n",
        "diabetes_y_pred = regr.predict(X_teste)\n",
        "diabetes_y_pred2 = regr.predict(Z_teste)\n",
        "\n",
        "#coeficientes b1\n",
        "print('Coeficiente b1: \\n', regr.coef_)\n",
        "#intercepto b0\n",
        "print('Coeficiente b0: \\n', regr.intercept_)"
      ],
      "execution_count": 158,
      "outputs": [
        {
          "output_type": "stream",
          "text": [
            "Coeficiente b1: \n",
            " [938.23786125]\n",
            "Coeficiente b0: \n",
            " 152.91886182616167\n"
          ],
          "name": "stdout"
        }
      ]
    },
    {
      "cell_type": "code",
      "metadata": {
        "id": "K_xfKA8cBJU5",
        "outputId": "677145a1-41d4-4ec2-9495-8db847df1f1a",
        "colab": {
          "base_uri": "https://localhost:8080/",
          "height": 252
        }
      },
      "source": [
        "\n",
        "plt.scatter(X_teste,y_teste,  color='black')\n",
        "plt.scatter(Z_teste, y_teste, color='green')\n",
        "plt.legend([\"age\", \"bmi\"])\n",
        "plt.plot(X_teste, diabetes_y_pred, color='blue', linewidth=2)\n",
        "plt.plot(Z_teste, diabetes_y_pred2, 'k--',color='red', linewidth=1)\n",
        "\n",
        "\n",
        "plt.xticks(())\n",
        "plt.yticks(())\n",
        "plt.show()"
      ],
      "execution_count": 159,
      "outputs": [
        {
          "output_type": "display_data",
          "data": {
            "image/png": "[encoded data removed]",
            "text/plain": [
              "<Figure size 432x288 with 1 Axes>"
            ]
          },
          "metadata": {
            "tags": []
          }
        }
      ]
    },
    {
      "cell_type": "code",
      "metadata": {
        "id": "ZBxM4kqkmAs_",
        "outputId": "4f9f4781-94d5-469f-b45d-444d995c6b94",
        "colab": {
          "base_uri": "https://localhost:8080/"
        }
      },
      "source": [
        "erroabs=sum(abs(y_teste-diabetes_y_pred.reshape(-1,1)))\n",
        "errorlt=sum((abs(y_teste-diabetes_y_pred.reshape(-1,1))/y_teste*0.01))\n",
        "print('Erro Absoluto - Erro:', erroabs)\n",
        "print ('Erro Reltivo - Erro:', errorlt)\n",
        "\n",
        "erroabs2=sum(abs(y_teste-diabetes_y_pred2.reshape(-1,1)))\n",
        "errorlt2=sum((abs(y_teste-diabetes_y_pred2.reshape(-1,1))/y_teste*0.01))\n",
        "print('Erro Absoluto 2 - Erro:', erroabs2)\n",
        "print ('Erro Reltivo 2 - Erro:', errorlt2)"
      ],
      "execution_count": 160,
      "outputs": [
        {
          "output_type": "stream",
          "text": [
            "Erro Absoluto - Erro: [1373.77662092]\n",
            "Erro Reltivo - Erro: [0.14657384]\n",
            "Erro Absoluto 2 - Erro: [824.5418258]\n",
            "Erro Reltivo 2 - Erro: [0.09735004]\n"
          ],
          "name": "stdout"
        }
      ]
    }
  ]
}