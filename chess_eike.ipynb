{
  "nbformat": 4,
  "nbformat_minor": 0,
  "metadata": {
    "colab": {
      "name": "chess_eike",
      "provenance": [],
      "collapsed_sections": [],
      "include_colab_link": true
    },
    "kernelspec": {
      "name": "python3",
      "display_name": "Python 3"
    }
  },
  "cells": [
    {
      "cell_type": "markdown",
      "metadata": {
        "id": "view-in-github",
        "colab_type": "text"
      },
      "source": [
        "<a href=\"https://colab.research.google.com/github/EStalei/IC/blob/main/chess_eike.ipynb\" target=\"_parent\"><img src=\"https://colab.research.google.com/assets/colab-badge.svg\" alt=\"Open In Colab\"/></a>"
      ]
    },
    {
      "cell_type": "markdown",
      "metadata": {
        "id": "pkDK9X7dYoRr"
      },
      "source": [
        "# **Trabalho final - Etapa 1**\n",
        "\n",
        "**Disciplina: Tópicos em Inteligência Computacional**\n",
        "\n",
        "Instituto Federal do Norte de Minas Gerais Campus Montes Claros\n",
        "\n",
        "Curso: Ciência da Computação\n",
        "\n",
        "Professora: Luciana Balieiro Cosme\n",
        "\n",
        "Aluno: Eike Stálei Vieira Neves\n",
        "\n",
        "\n",
        "* [DATABASE CHESS](https://www.kaggle.com/datasnaek/chess)\n",
        "\n"
      ]
    },
    {
      "cell_type": "code",
      "metadata": {
        "id": "2ODvOdBpXX2N",
        "outputId": "2832d5b9-d58c-4bc4-a1bf-0a43121d0567",
        "colab": {
          "resources": {
            "http://localhost:8080/nbextensions/google.colab/files.js": {
              "data": "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",
              "ok": true,
              "headers": [
                [
                  "content-type",
                  "application/javascript"
                ]
              ],
              "status": 200,
              "status_text": ""
            }
          },
          "base_uri": "https://localhost:8080/",
          "height": 126
        }
      },
      "source": [
        "import pandas as pd\n",
        "import matplotlib.pyplot as plt\n",
        "import io\n",
        "import numpy as np\n",
        "import pandas\n",
        "from sklearn import linear_model\n",
        "from statsmodels.stats.diagnostic import normal_ad\n",
        "from sklearn.metrics import r2_score\n",
        "\n",
        "uploaded = files.upload()\n",
        "dt = pd.read_csv(io.BytesIO(uploaded['games.csv']))"
      ],
      "execution_count": null,
      "outputs": [
        {
          "output_type": "stream",
          "text": [
            "/usr/local/lib/python3.6/dist-packages/statsmodels/tools/_testing.py:19: FutureWarning: pandas.util.testing is deprecated. Use the functions in the public API at pandas.testing instead.\n",
            "  import pandas.util.testing as tm\n"
          ],
          "name": "stderr"
        },
        {
          "output_type": "display_data",
          "data": {
            "text/html": [
              "\n",
              "     <input type=\"file\" id=\"files-4eaed857-d231-4dff-92dd-a60feb0d5bbb\" name=\"files[]\" multiple disabled\n",
              "        style=\"border:none\" />\n",
              "     <output id=\"result-4eaed857-d231-4dff-92dd-a60feb0d5bbb\">\n",
              "      Upload widget is only available when the cell has been executed in the\n",
              "      current browser session. Please rerun this cell to enable.\n",
              "      </output>\n",
              "      <script src=\"/nbextensions/google.colab/files.js\"></script> "
            ],
            "text/plain": [
              "<IPython.core.display.HTML object>"
            ]
          },
          "metadata": {
            "tags": []
          }
        },
        {
          "output_type": "stream",
          "text": [
            "Saving games.csv to games (3).csv\n"
          ],
          "name": "stdout"
        }
      ]
    },
    {
      "cell_type": "code",
      "metadata": {
        "id": "pGnsPJyM_QbD",
        "outputId": "968a3919-cf43-4bdb-8ec1-b6cbd4972a9f",
        "colab": {
          "base_uri": "https://localhost:8080/"
        }
      },
      "source": [
        "dt.shape"
      ],
      "execution_count": null,
      "outputs": [
        {
          "output_type": "execute_result",
          "data": {
            "text/plain": [
              "(20058, 16)"
            ]
          },
          "metadata": {
            "tags": []
          },
          "execution_count": 6
        }
      ]
    },
    {
      "cell_type": "code",
      "metadata": {
        "id": "LO7Z-kJL_UbL",
        "outputId": "251d521d-bafe-43ca-82cb-79c9936b7f26",
        "colab": {
          "base_uri": "https://localhost:8080/"
        }
      },
      "source": [
        "dt.columns[0:16]"
      ],
      "execution_count": null,
      "outputs": [
        {
          "output_type": "execute_result",
          "data": {
            "text/plain": [
              "Index(['id', 'rated', 'created_at', 'last_move_at', 'turns', 'victory_status',\n",
              "       'winner', 'increment_code', 'white_id', 'white_rating', 'black_id',\n",
              "       'black_rating', 'moves', 'opening_eco', 'opening_name', 'opening_ply'],\n",
              "      dtype='object')"
            ]
          },
          "metadata": {
            "tags": []
          },
          "execution_count": 7
        }
      ]
    },
    {
      "cell_type": "code",
      "metadata": {
        "id": "Fa9l0Tbn_h5C",
        "outputId": "f61b8b9b-31af-4cfe-dff0-35767423a1b6",
        "colab": {
          "base_uri": "https://localhost:8080/",
          "height": 419
        }
      },
      "source": [
        "games = pandas.DataFrame(dt, columns=['victory_status','turns', 'winner', 'black_id','white_id','black_rating', 'white_rating'])\n",
        "games.head()\n",
        "games.sort_values(by=['turns'], ascending = False)"
      ],
      "execution_count": 82,
      "outputs": [
        {
          "output_type": "execute_result",
          "data": {
            "text/html": [
              "<div>\n",
              "<style scoped>\n",
              "    .dataframe tbody tr th:only-of-type {\n",
              "        vertical-align: middle;\n",
              "    }\n",
              "\n",
              "    .dataframe tbody tr th {\n",
              "        vertical-align: top;\n",
              "    }\n",
              "\n",
              "    .dataframe thead th {\n",
              "        text-align: right;\n",
              "    }\n",
              "</style>\n",
              "<table border=\"1\" class=\"dataframe\">\n",
              "  <thead>\n",
              "    <tr style=\"text-align: right;\">\n",
              "      <th></th>\n",
              "      <th>victory_status</th>\n",
              "      <th>turns</th>\n",
              "      <th>winner</th>\n",
              "      <th>black_id</th>\n",
              "      <th>white_id</th>\n",
              "      <th>black_rating</th>\n",
              "      <th>white_rating</th>\n",
              "    </tr>\n",
              "  </thead>\n",
              "  <tbody>\n",
              "    <tr>\n",
              "      <th>13859</th>\n",
              "      <td>outoftime</td>\n",
              "      <td>349</td>\n",
              "      <td>white</td>\n",
              "      <td>kijek</td>\n",
              "      <td>shiwen</td>\n",
              "      <td>2240</td>\n",
              "      <td>2194</td>\n",
              "    </tr>\n",
              "    <tr>\n",
              "      <th>11554</th>\n",
              "      <td>outoftime</td>\n",
              "      <td>349</td>\n",
              "      <td>white</td>\n",
              "      <td>kijek</td>\n",
              "      <td>shiwen</td>\n",
              "      <td>2240</td>\n",
              "      <td>2194</td>\n",
              "    </tr>\n",
              "    <tr>\n",
              "      <th>16386</th>\n",
              "      <td>draw</td>\n",
              "      <td>259</td>\n",
              "      <td>draw</td>\n",
              "      <td>lone-wolf</td>\n",
              "      <td>aragon26</td>\n",
              "      <td>1461</td>\n",
              "      <td>1441</td>\n",
              "    </tr>\n",
              "    <tr>\n",
              "      <th>4236</th>\n",
              "      <td>draw</td>\n",
              "      <td>255</td>\n",
              "      <td>draw</td>\n",
              "      <td>kasparovd0311</td>\n",
              "      <td>manipin</td>\n",
              "      <td>1448</td>\n",
              "      <td>1585</td>\n",
              "    </tr>\n",
              "    <tr>\n",
              "      <th>16645</th>\n",
              "      <td>draw</td>\n",
              "      <td>226</td>\n",
              "      <td>draw</td>\n",
              "      <td>jhonthoth</td>\n",
              "      <td>chunnev</td>\n",
              "      <td>1907</td>\n",
              "      <td>1817</td>\n",
              "    </tr>\n",
              "    <tr>\n",
              "      <th>...</th>\n",
              "      <td>...</td>\n",
              "      <td>...</td>\n",
              "      <td>...</td>\n",
              "      <td>...</td>\n",
              "      <td>...</td>\n",
              "      <td>...</td>\n",
              "      <td>...</td>\n",
              "    </tr>\n",
              "    <tr>\n",
              "      <th>18583</th>\n",
              "      <td>resign</td>\n",
              "      <td>1</td>\n",
              "      <td>white</td>\n",
              "      <td>usa-04071776</td>\n",
              "      <td>adriansywu</td>\n",
              "      <td>1367</td>\n",
              "      <td>1431</td>\n",
              "    </tr>\n",
              "    <tr>\n",
              "      <th>1977</th>\n",
              "      <td>outoftime</td>\n",
              "      <td>1</td>\n",
              "      <td>white</td>\n",
              "      <td>tactical_bishop</td>\n",
              "      <td>clarkkent89</td>\n",
              "      <td>1223</td>\n",
              "      <td>2032</td>\n",
              "    </tr>\n",
              "    <tr>\n",
              "      <th>13701</th>\n",
              "      <td>resign</td>\n",
              "      <td>1</td>\n",
              "      <td>black</td>\n",
              "      <td>kaskade24</td>\n",
              "      <td>networkchess2</td>\n",
              "      <td>1860</td>\n",
              "      <td>1878</td>\n",
              "    </tr>\n",
              "    <tr>\n",
              "      <th>5496</th>\n",
              "      <td>outoftime</td>\n",
              "      <td>1</td>\n",
              "      <td>white</td>\n",
              "      <td>ytdvvc</td>\n",
              "      <td>slowgamer</td>\n",
              "      <td>1404</td>\n",
              "      <td>2100</td>\n",
              "    </tr>\n",
              "    <tr>\n",
              "      <th>4828</th>\n",
              "      <td>resign</td>\n",
              "      <td>1</td>\n",
              "      <td>white</td>\n",
              "      <td>andreschil</td>\n",
              "      <td>bert-w</td>\n",
              "      <td>1175</td>\n",
              "      <td>1670</td>\n",
              "    </tr>\n",
              "  </tbody>\n",
              "</table>\n",
              "<p>20058 rows × 7 columns</p>\n",
              "</div>"
            ],
            "text/plain": [
              "      victory_status  turns winner  ...       white_id black_rating  white_rating\n",
              "13859      outoftime    349  white  ...         shiwen         2240          2194\n",
              "11554      outoftime    349  white  ...         shiwen         2240          2194\n",
              "16386           draw    259   draw  ...       aragon26         1461          1441\n",
              "4236            draw    255   draw  ...        manipin         1448          1585\n",
              "16645           draw    226   draw  ...        chunnev         1907          1817\n",
              "...              ...    ...    ...  ...            ...          ...           ...\n",
              "18583         resign      1  white  ...     adriansywu         1367          1431\n",
              "1977       outoftime      1  white  ...    clarkkent89         1223          2032\n",
              "13701         resign      1  black  ...  networkchess2         1860          1878\n",
              "5496       outoftime      1  white  ...      slowgamer         1404          2100\n",
              "4828          resign      1  white  ...         bert-w         1175          1670\n",
              "\n",
              "[20058 rows x 7 columns]"
            ]
          },
          "metadata": {
            "tags": []
          },
          "execution_count": 82
        }
      ]
    },
    {
      "cell_type": "code",
      "metadata": {
        "id": "Ex3zW2DkI6hU",
        "outputId": "4ec1e98e-7891-4ce3-838d-56e310239672",
        "colab": {
          "base_uri": "https://localhost:8080/"
        }
      },
      "source": [
        "games['black_rating'].describe()"
      ],
      "execution_count": null,
      "outputs": [
        {
          "output_type": "execute_result",
          "data": {
            "text/plain": [
              "count    20058.000000\n",
              "mean      1588.831987\n",
              "std        291.036126\n",
              "min        789.000000\n",
              "25%       1391.000000\n",
              "50%       1562.000000\n",
              "75%       1784.000000\n",
              "max       2723.000000\n",
              "Name: black_rating, dtype: float64"
            ]
          },
          "metadata": {
            "tags": []
          },
          "execution_count": 19
        }
      ]
    },
    {
      "cell_type": "code",
      "metadata": {
        "id": "mNkQuv5SeOyw",
        "outputId": "356f8b44-cc02-43cb-d9d4-3c93c8a544ba",
        "colab": {
          "base_uri": "https://localhost:8080/"
        }
      },
      "source": [
        "games['white_rating'].describe()"
      ],
      "execution_count": null,
      "outputs": [
        {
          "output_type": "execute_result",
          "data": {
            "text/plain": [
              "count    20058.000000\n",
              "mean      1596.631868\n",
              "std        291.253376\n",
              "min        784.000000\n",
              "25%       1398.000000\n",
              "50%       1567.000000\n",
              "75%       1793.000000\n",
              "max       2700.000000\n",
              "Name: white_rating, dtype: float64"
            ]
          },
          "metadata": {
            "tags": []
          },
          "execution_count": 72
        }
      ]
    },
    {
      "cell_type": "code",
      "metadata": {
        "id": "6xBwEJ2cAk8Y",
        "outputId": "5e99f6fc-ad1d-4b7c-adea-db0617f891a6",
        "colab": {
          "base_uri": "https://localhost:8080/"
        }
      },
      "source": [
        "print('Maior rating de um jogador de peças brancas: ', games['white_rating'][games['white_rating'].idxmax()])\n",
        "print('Maior rating de um jogador de peças pretas: ', games['black_rating'][games['black_rating'].idxmax()])\n",
        "\n",
        "print('indice do maior rating preto: ', games['black_rating'].idxmax())\n",
        "print('indice do maior rating branco: ', games['white_rating'].idxmax())\n",
        "\n",
        "print('jogador com maior rating jogando com peças pretas: ',games['black_id'][games['black_rating'].idxmax()])\n",
        "print('Jogador com maior rating jogando com peças brancas: ',games['white_id'][games['white_rating'].idxmax()])"
      ],
      "execution_count": null,
      "outputs": [
        {
          "output_type": "stream",
          "text": [
            "Maior rating de um jogador de peças brancas:  2700\n",
            "Maior rating de um jogador de peças pretas:  2723\n",
            "indice do maior rating preto:  4473\n",
            "indice do maior rating branco:  13009\n",
            "jogador com maior rating jogando com peças pretas:  justicebot\n",
            "Jogador com maior rating jogando com peças brancas:  justicebot\n"
          ],
          "name": "stdout"
        }
      ]
    },
    {
      "cell_type": "code",
      "metadata": {
        "id": "5YW1y_ORKd8x",
        "outputId": "a1e047c3-6583-4b02-de34-30def68421f2",
        "colab": {
          "base_uri": "https://localhost:8080/"
        }
      },
      "source": [
        "games['turns'].describe()\n",
        "\n",
        "#print('Media de turnos: ', games['turns'].)"
      ],
      "execution_count": null,
      "outputs": [
        {
          "output_type": "execute_result",
          "data": {
            "text/plain": [
              "count    20058.000000\n",
              "mean        60.465999\n",
              "std         33.570585\n",
              "min          1.000000\n",
              "25%         37.000000\n",
              "50%         55.000000\n",
              "75%         79.000000\n",
              "max        349.000000\n",
              "Name: turns, dtype: float64"
            ]
          },
          "metadata": {
            "tags": []
          },
          "execution_count": 34
        }
      ]
    },
    {
      "cell_type": "code",
      "metadata": {
        "id": "LI1RTVZvNqyR",
        "outputId": "962126d5-8086-4dea-d202-8c7da16f3db5",
        "colab": {
          "base_uri": "https://localhost:8080/",
          "height": 359
        }
      },
      "source": [
        "from sklearn import preprocessing\n",
        "\n",
        "le = preprocessing.LabelEncoder()\n",
        "\n",
        "winner = le.fit_transform(games['winner'])\n",
        "games['y'] = winner\n",
        "\n",
        "victory_status = le.fit_transform(games['victory_status'])\n",
        "games['status'] = victory_status\n",
        "\n",
        "games.head(10)"
      ],
      "execution_count": 83,
      "outputs": [
        {
          "output_type": "execute_result",
          "data": {
            "text/html": [
              "<div>\n",
              "<style scoped>\n",
              "    .dataframe tbody tr th:only-of-type {\n",
              "        vertical-align: middle;\n",
              "    }\n",
              "\n",
              "    .dataframe tbody tr th {\n",
              "        vertical-align: top;\n",
              "    }\n",
              "\n",
              "    .dataframe thead th {\n",
              "        text-align: right;\n",
              "    }\n",
              "</style>\n",
              "<table border=\"1\" class=\"dataframe\">\n",
              "  <thead>\n",
              "    <tr style=\"text-align: right;\">\n",
              "      <th></th>\n",
              "      <th>victory_status</th>\n",
              "      <th>turns</th>\n",
              "      <th>winner</th>\n",
              "      <th>black_id</th>\n",
              "      <th>white_id</th>\n",
              "      <th>black_rating</th>\n",
              "      <th>white_rating</th>\n",
              "      <th>y</th>\n",
              "      <th>status</th>\n",
              "    </tr>\n",
              "  </thead>\n",
              "  <tbody>\n",
              "    <tr>\n",
              "      <th>0</th>\n",
              "      <td>outoftime</td>\n",
              "      <td>13</td>\n",
              "      <td>white</td>\n",
              "      <td>a-00</td>\n",
              "      <td>bourgris</td>\n",
              "      <td>1191</td>\n",
              "      <td>1500</td>\n",
              "      <td>2</td>\n",
              "      <td>2</td>\n",
              "    </tr>\n",
              "    <tr>\n",
              "      <th>1</th>\n",
              "      <td>resign</td>\n",
              "      <td>16</td>\n",
              "      <td>black</td>\n",
              "      <td>skinnerua</td>\n",
              "      <td>a-00</td>\n",
              "      <td>1261</td>\n",
              "      <td>1322</td>\n",
              "      <td>0</td>\n",
              "      <td>3</td>\n",
              "    </tr>\n",
              "    <tr>\n",
              "      <th>2</th>\n",
              "      <td>mate</td>\n",
              "      <td>61</td>\n",
              "      <td>white</td>\n",
              "      <td>a-00</td>\n",
              "      <td>ischia</td>\n",
              "      <td>1500</td>\n",
              "      <td>1496</td>\n",
              "      <td>2</td>\n",
              "      <td>1</td>\n",
              "    </tr>\n",
              "    <tr>\n",
              "      <th>3</th>\n",
              "      <td>mate</td>\n",
              "      <td>61</td>\n",
              "      <td>white</td>\n",
              "      <td>adivanov2009</td>\n",
              "      <td>daniamurashov</td>\n",
              "      <td>1454</td>\n",
              "      <td>1439</td>\n",
              "      <td>2</td>\n",
              "      <td>1</td>\n",
              "    </tr>\n",
              "    <tr>\n",
              "      <th>4</th>\n",
              "      <td>mate</td>\n",
              "      <td>95</td>\n",
              "      <td>white</td>\n",
              "      <td>adivanov2009</td>\n",
              "      <td>nik221107</td>\n",
              "      <td>1469</td>\n",
              "      <td>1523</td>\n",
              "      <td>2</td>\n",
              "      <td>1</td>\n",
              "    </tr>\n",
              "    <tr>\n",
              "      <th>5</th>\n",
              "      <td>draw</td>\n",
              "      <td>5</td>\n",
              "      <td>draw</td>\n",
              "      <td>franklin14532</td>\n",
              "      <td>trelynn17</td>\n",
              "      <td>1002</td>\n",
              "      <td>1250</td>\n",
              "      <td>1</td>\n",
              "      <td>0</td>\n",
              "    </tr>\n",
              "    <tr>\n",
              "      <th>6</th>\n",
              "      <td>resign</td>\n",
              "      <td>33</td>\n",
              "      <td>white</td>\n",
              "      <td>daniel_likes_chess</td>\n",
              "      <td>capa_jr</td>\n",
              "      <td>1423</td>\n",
              "      <td>1520</td>\n",
              "      <td>2</td>\n",
              "      <td>3</td>\n",
              "    </tr>\n",
              "    <tr>\n",
              "      <th>7</th>\n",
              "      <td>resign</td>\n",
              "      <td>9</td>\n",
              "      <td>black</td>\n",
              "      <td>soultego</td>\n",
              "      <td>daniel_likes_chess</td>\n",
              "      <td>2108</td>\n",
              "      <td>1413</td>\n",
              "      <td>0</td>\n",
              "      <td>3</td>\n",
              "    </tr>\n",
              "    <tr>\n",
              "      <th>8</th>\n",
              "      <td>resign</td>\n",
              "      <td>66</td>\n",
              "      <td>black</td>\n",
              "      <td>daniel_likes_chess</td>\n",
              "      <td>ehabfanri</td>\n",
              "      <td>1392</td>\n",
              "      <td>1439</td>\n",
              "      <td>0</td>\n",
              "      <td>3</td>\n",
              "    </tr>\n",
              "    <tr>\n",
              "      <th>9</th>\n",
              "      <td>mate</td>\n",
              "      <td>119</td>\n",
              "      <td>white</td>\n",
              "      <td>mirco25</td>\n",
              "      <td>daniel_likes_chess</td>\n",
              "      <td>1209</td>\n",
              "      <td>1381</td>\n",
              "      <td>2</td>\n",
              "      <td>1</td>\n",
              "    </tr>\n",
              "  </tbody>\n",
              "</table>\n",
              "</div>"
            ],
            "text/plain": [
              "  victory_status  turns winner  ... white_rating  y  status\n",
              "0      outoftime     13  white  ...         1500  2       2\n",
              "1         resign     16  black  ...         1322  0       3\n",
              "2           mate     61  white  ...         1496  2       1\n",
              "3           mate     61  white  ...         1439  2       1\n",
              "4           mate     95  white  ...         1523  2       1\n",
              "5           draw      5   draw  ...         1250  1       0\n",
              "6         resign     33  white  ...         1520  2       3\n",
              "7         resign      9  black  ...         1413  0       3\n",
              "8         resign     66  black  ...         1439  0       3\n",
              "9           mate    119  white  ...         1381  2       1\n",
              "\n",
              "[10 rows x 9 columns]"
            ]
          },
          "metadata": {
            "tags": []
          },
          "execution_count": 83
        }
      ]
    },
    {
      "cell_type": "code",
      "metadata": {
        "id": "dxpbiov24Ht1",
        "outputId": "f2161217-6fe5-41c3-ea00-91f182ae071d",
        "colab": {
          "base_uri": "https://localhost:8080/",
          "height": 361
        }
      },
      "source": [
        "import matplotlib.pyplot as plt \n",
        "\n",
        "plt.subplots()\n",
        "plt.scatter(games['turns'], games['winner'], c=games['y'], cmap=plt.cm.Set1)\n",
        "plt.xlabel('quatidade de turnos')\n",
        "plt.ylabel('vendedor')\n",
        "plt.grid(True)\n",
        "plt.show()\n"
      ],
      "execution_count": 85,
      "outputs": [
        {
          "output_type": "display_data",
          "data": {
            "image/png": "[encoded data removed]",
            "text/plain": [
              "<Figure size 576x396 with 1 Axes>"
            ]
          },
          "metadata": {
            "tags": []
          }
        }
      ]
    },
    {
      "cell_type": "code",
      "metadata": {
        "id": "ZFkrWf-9Scfo",
        "outputId": "9f8309c9-61fb-4bb2-c4ae-b48a6aafd930",
        "colab": {
          "base_uri": "https://localhost:8080/",
          "height": 408
        }
      },
      "source": [
        "nsoqeisso = pandas.DataFrame(games, columns=['status', 'turns'])\n",
        "nsoqeisso.boxplot(by='status')\n",
        "\n",
        "#0 draw\n",
        "#1 mate\n",
        "#2 outoftime\n",
        "#3 resign"
      ],
      "execution_count": 90,
      "outputs": [
        {
          "output_type": "execute_result",
          "data": {
            "text/plain": [
              "<matplotlib.axes._subplots.AxesSubplot at 0x7fc24d6786d8>"
            ]
          },
          "metadata": {
            "tags": []
          },
          "execution_count": 90
        },
        {
          "output_type": "display_data",
          "data": {
            "image/png": "[encoded data removed]",
            "text/plain": [
              "<Figure size 576x396 with 1 Axes>"
            ]
          },
          "metadata": {
            "tags": []
          }
        }
      ]
    },
    {
      "cell_type": "code",
      "metadata": {
        "id": "Qzg3xg9cULPQ",
        "outputId": "36a93606-7b89-485f-8608-83122fe3987b",
        "colab": {
          "base_uri": "https://localhost:8080/",
          "height": 379
        }
      },
      "source": [
        "y = games['y']\n",
        "\n",
        "plt.hist(y)\n",
        "plt.title('Histograma de y')\n",
        "plt.show()\n",
        "\n",
        "\n",
        "X = games['turns']\n",
        "X_treinamento = X[:-200].array.to_numpy().reshape(-1,1)\n",
        "X_teste = X[-200:].array.to_numpy().reshape(-1,1)\n",
        "\n",
        "y_treinamento = y[:-200]\n",
        "y_teste = y[-200:].array.to_numpy().reshape(-1,1)\n",
        "\n",
        "\n",
        "regr = linear_model.LinearRegression()\n",
        "\n",
        "regr.fit(X_treinamento, y_treinamento)"
      ],
      "execution_count": 93,
      "outputs": [
        {
          "output_type": "display_data",
          "data": {
            "image/png": "[encoded data removed]",
            "text/plain": [
              "<Figure size 576x396 with 1 Axes>"
            ]
          },
          "metadata": {
            "tags": []
          }
        },
        {
          "output_type": "execute_result",
          "data": {
            "text/plain": [
              "LinearRegression(copy_X=True, fit_intercept=True, n_jobs=None, normalize=False)"
            ]
          },
          "metadata": {
            "tags": []
          },
          "execution_count": 93
        }
      ]
    },
    {
      "cell_type": "code",
      "metadata": {
        "id": "8Sz0dNSjbnQh",
        "outputId": "0899b91c-576a-40e6-d9d0-a78270590424",
        "colab": {
          "base_uri": "https://localhost:8080/",
          "height": 755
        }
      },
      "source": [
        "#Tentando usar regressão linear\n",
        "\n",
        "games_y_pred = regr.predict(X_teste)\n",
        "\n",
        "res = y_teste - games_y_pred.reshape(-1,1)\n",
        "\n",
        "plt.scatter(y=res, x=games_y_pred, color='green', s=50, alpha=.6)\n",
        "plt.hlines(y=0, xmin=-40, xmax=160, color='orange')\n",
        "plt.ylabel('$ Resíduos')\n",
        "plt.xlabel('$y Predito')\n",
        "plt.title ('Gráficos de Resíduos')\n",
        "plt.show()\n",
        "\n",
        "plt.hist(res)\n",
        "plt.title('Histograma dos resíduos da regressão')\n",
        "plt.show()\n",
        "\n",
        "#p_value = normal_ad(res)[1]\n",
        "#print('\\n p-value abaixo 0.05 geralmente significa não normal:', round(p_value[0],2))\n",
        "\n",
        "print('\\n R2:', r2_score(y_teste, games_y_pred))"
      ],
      "execution_count": 94,
      "outputs": [
        {
          "output_type": "display_data",
          "data": {
            "image/png": "[encoded data removed]",
            "text/plain": [
              "<Figure size 576x396 with 1 Axes>"
            ]
          },
          "metadata": {
            "tags": []
          }
        },
        {
          "output_type": "display_data",
          "data": {
            "image/png": "[encoded data removed]",
            "text/plain": [
              "<Figure size 576x396 with 1 Axes>"
            ]
          },
          "metadata": {
            "tags": []
          }
        },
        {
          "output_type": "stream",
          "text": [
            "\n",
            " R2: 0.006364536942842669\n"
          ],
          "name": "stdout"
        }
      ]
    }
  ]
}